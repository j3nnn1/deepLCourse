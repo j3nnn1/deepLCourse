{
 "cells": [
  {
   "cell_type": "code",
   "execution_count": 9,
   "metadata": {},
   "outputs": [
    {
     "name": "stderr",
     "output_type": "stream",
     "text": [
      "2021-09-01 10:45:08.393200: I tensorflow/stream_executor/cuda/cuda_gpu_executor.cc:937] successful NUMA node read from SysFS had negative value (-1), but there must be at least one NUMA node, so returning NUMA node zero\n",
      "2021-09-01 10:45:08.394135: I tensorflow/stream_executor/cuda/cuda_gpu_executor.cc:937] successful NUMA node read from SysFS had negative value (-1), but there must be at least one NUMA node, so returning NUMA node zero\n",
      "2021-09-01 10:45:08.394961: I tensorflow/stream_executor/cuda/cuda_gpu_executor.cc:937] successful NUMA node read from SysFS had negative value (-1), but there must be at least one NUMA node, so returning NUMA node zero\n",
      "2021-09-01 10:45:08.396063: I tensorflow/core/common_runtime/gpu/gpu_device.cc:1885] Ignoring visible gpu device (device: 0, name: GeForce GTX 560M, pci bus id: 0000:01:00.0, compute capability: 2.1) with Cuda compute capability 2.1. The minimum required Cuda capability is 3.5.\n",
      "/home/j3nnn1/anaconda3/envs/mlp_machinelearning/lib/python3.9/site-packages/tensorflow/python/client/session.py:1766: UserWarning: An interactive session is already active. This can cause out-of-memory errors in some cases. You must explicitly call `InteractiveSession.close()` to release resources held by the other session(s).\n",
      "  warnings.warn('An interactive session is already active. This can '\n"
     ]
    }
   ],
   "source": [
    "from tensorflow.compat.v1 import ConfigProto\n",
    "from tensorflow.compat.v1 import InteractiveSession\n",
    "config = ConfigProto()\n",
    "config.gpu_options.allow_growth = True\n",
    "session = InteractiveSession(config=config)"
   ]
  },
  {
   "cell_type": "code",
   "execution_count": 10,
   "metadata": {},
   "outputs": [],
   "source": [
    "import pandas as pd\n",
    "import numpy as np\n",
    "import datetime\n",
    "from pandas_summary import DataFrameSummary"
   ]
  },
  {
   "cell_type": "code",
   "execution_count": 11,
   "metadata": {},
   "outputs": [],
   "source": [
    "from tensorflow.keras.utils import to_categorical"
   ]
  },
  {
   "cell_type": "code",
   "execution_count": 12,
   "metadata": {},
   "outputs": [],
   "source": [
    "df = pd.read_feather('train_normalized_data.fth')\n",
    "df_test = pd.read_feather('test_normalized_data.fth')"
   ]
  },
  {
   "cell_type": "code",
   "execution_count": 13,
   "metadata": {},
   "outputs": [
    {
     "data": {
      "text/plain": [
       "(41088, 105)"
      ]
     },
     "execution_count": 13,
     "metadata": {},
     "output_type": "execute_result"
    }
   ],
   "source": [
    "np.shape(df_test)"
   ]
  },
  {
   "cell_type": "code",
   "execution_count": 14,
   "metadata": {},
   "outputs": [
    {
     "data": {
      "text/plain": [
       "(844338, 108)"
      ]
     },
     "execution_count": 14,
     "metadata": {},
     "output_type": "execute_result"
    }
   ],
   "source": [
    "np.shape(df)"
   ]
  },
  {
   "cell_type": "code",
   "execution_count": 66,
   "metadata": {},
   "outputs": [],
   "source": [
    "cat_vars = ['Store', 'DayOfWeek', 'Year', 'Month', 'Day', 'StateHoliday', 'CompetitionMonthsOpen', 'Promo2Weeks', \n",
    "            'StoreType', 'Assortment', 'PromoInterval', 'CompetitionOpenSinceYear', 'Promo2SinceYear', 'State', \n",
    "            'Week', 'Events', 'Promo_fw', 'Promo_bw', 'StateHoliday_bool_fw', 'StateHoliday_bool_bw', 'SchoolHoliday_fw', 'SchoolHoliday_bw']\n",
    "\n",
    "#cat_vars = ['Store', 'DayOfWeek', 'Month', 'Promo2Weeks']\n",
    "cat_vars = ['Store', 'DayOfWeek']"
   ]
  },
  {
   "cell_type": "code",
   "execution_count": 67,
   "metadata": {},
   "outputs": [],
   "source": [
    "contin_vars = ['CompetitionDistance', \n",
    "   'Max_TemperatureC', 'Mean_TemperatureC', 'Min_TemperatureC', 'Precipitationmm',\n",
    "   'Max_Humidity', 'Mean_Humidity', 'Min_Humidity', 'Max_Wind_SpeedKm_h', \n",
    "   'Mean_Wind_SpeedKm_h', 'CloudCover', 'trend', 'trend_DE',\n",
    "   'AfterStateHoliday_bool', 'BeforeStateHoliday_bool', 'Promo', 'SchoolHoliday', 'StateHoliday_bool']\n",
    "contin_vars = ['BeforeStateHoliday_bool', 'Max_TemperatureC']"
   ]
  },
  {
   "cell_type": "code",
   "execution_count": 68,
   "metadata": {},
   "outputs": [],
   "source": [
    "uniques = DataFrameSummary(df[cat_vars]).summary().loc[['uniques']]"
   ]
  },
  {
   "cell_type": "code",
   "execution_count": 69,
   "metadata": {},
   "outputs": [
    {
     "data": {
      "text/html": [
       "<div>\n",
       "<style scoped>\n",
       "    .dataframe tbody tr th:only-of-type {\n",
       "        vertical-align: middle;\n",
       "    }\n",
       "\n",
       "    .dataframe tbody tr th {\n",
       "        vertical-align: top;\n",
       "    }\n",
       "\n",
       "    .dataframe thead th {\n",
       "        text-align: right;\n",
       "    }\n",
       "</style>\n",
       "<table border=\"1\" class=\"dataframe\">\n",
       "  <thead>\n",
       "    <tr style=\"text-align: right;\">\n",
       "      <th></th>\n",
       "      <th>uniques</th>\n",
       "    </tr>\n",
       "  </thead>\n",
       "  <tbody>\n",
       "    <tr>\n",
       "      <th>Store</th>\n",
       "      <td>1115</td>\n",
       "    </tr>\n",
       "    <tr>\n",
       "      <th>DayOfWeek</th>\n",
       "      <td>7</td>\n",
       "    </tr>\n",
       "  </tbody>\n",
       "</table>\n",
       "</div>"
      ],
      "text/plain": [
       "          uniques\n",
       "Store        1115\n",
       "DayOfWeek       7"
      ]
     },
     "execution_count": 69,
     "metadata": {},
     "output_type": "execute_result"
    }
   ],
   "source": [
    "uniques.T"
   ]
  },
  {
   "cell_type": "markdown",
   "metadata": {},
   "source": [
    "# Asignación de dimensión de embeddings"
   ]
  },
  {
   "cell_type": "code",
   "execution_count": 70,
   "metadata": {},
   "outputs": [],
   "source": [
    "cat_var_dict = {'Store': 50, 'DayOfWeek': 2, 'Year': 2, 'Month': 2,\n",
    "'Day': 10, 'StateHoliday': 2, 'CompetitionMonthsOpen': 2,\n",
    "'Promo2Weeks': 1, 'StoreType': 2, 'Assortment': 3, 'PromoInterval': 3,\n",
    "'CompetitionOpenSinceYear': 4, 'Promo2SinceYear': 4, 'State': 6,\n",
    "'Week': 25, 'Events': 4, 'Promo_fw': 1,\n",
    "'Promo_bw': 1, 'StateHoliday_bool_fw': 1,\n",
    "'StateHoliday_bool_bw': 1, 'SchoolHoliday_fw': 1,\n",
    "'SchoolHoliday_bw': 1}"
   ]
  },
  {
   "cell_type": "code",
   "execution_count": 71,
   "metadata": {},
   "outputs": [
    {
     "name": "stdout",
     "output_type": "stream",
     "text": [
      "Store 50 1115 [   0    1    2 ... 1112 1113 1114]\n",
      "\n",
      "DayOfWeek 2 7 [0 1 2 3 4 5 6]\n",
      "\n"
     ]
    }
   ],
   "source": [
    "for v in cat_vars:\n",
    "    uniques_ = df[v].unique()\n",
    "    uniques_.sort()\n",
    "    print(v, cat_var_dict[v], len(uniques_), uniques_)\n",
    "    print()"
   ]
  },
  {
   "cell_type": "markdown",
   "metadata": {},
   "source": [
    "# Definición de modelo"
   ]
  },
  {
   "cell_type": "code",
   "execution_count": 72,
   "metadata": {},
   "outputs": [],
   "source": [
    "add_customers = True\n",
    "log_output = False\n",
    "output_activation = 'linear'"
   ]
  },
  {
   "cell_type": "code",
   "execution_count": 73,
   "metadata": {},
   "outputs": [],
   "source": [
    "from tensorflow.keras.models import Model\n",
    "from tensorflow.keras.callbacks import ModelCheckpoint\n",
    "from tensorflow.keras.optimizers import Adam\n",
    "from tensorflow.keras.layers import Embedding, Input, Flatten, Concatenate, Dense, BatchNormalization, Activation, LeakyReLU, Dropout\n",
    "from tensorflow.keras.regularizers import l2"
   ]
  },
  {
   "cell_type": "code",
   "execution_count": 74,
   "metadata": {},
   "outputs": [],
   "source": [
    "def get_cat_vars_model(cat_vars, uniques, cat_var_dict):\n",
    "    cat_vars_embed_outs = []\n",
    "    cat_var_inputs = []\n",
    "    for cat_var in cat_vars:\n",
    "        cat_var_in = Input(shape=(1,), name=f\"{cat_var}_input\")\n",
    "        cat_var_inputs.append(cat_var_in)\n",
    "        embed_out = Embedding(uniques[cat_var][0], cat_var_dict[cat_var], name=f'{cat_var}_Embed')(cat_var_in)\n",
    "        flatten_out = Flatten(name=f\"{cat_var}_flat\")(embed_out)\n",
    "        cat_vars_embed_outs.append(flatten_out)\n",
    "    return cat_var_inputs, cat_vars_embed_outs\n",
    "\n",
    "def get_cont_vars_input(contin_vars, dense_layer=False):\n",
    "    cont_vars_inputs = []\n",
    "    cont_vars_outputs = []\n",
    "    for cont_var in contin_vars:\n",
    "        cont_var_in = Input(shape=(1,), name=f\"{cont_var}_input\")\n",
    "        cont_vars_inputs.append(cont_var_in)\n",
    "        if dense_layer:\n",
    "            cont_var_out = Dense(1, name=f\"{cont_var}_input\", activation = 'linear')(cont_var_in)\n",
    "            cont_vars_outputs.append(cont_var_out)\n",
    "        else:\n",
    "            cont_vars_outputs.append(cont_var_in)\n",
    "    return cont_vars_inputs, cont_vars_outputs"
   ]
  },
  {
   "cell_type": "code",
   "execution_count": 75,
   "metadata": {},
   "outputs": [],
   "source": [
    "cat_var_inputs, cat_vars_embed_outs = get_cat_vars_model(cat_vars, uniques, cat_var_dict)\n",
    "cont_vars_inputs,  cont_vars_outs= get_cont_vars_input(contin_vars)"
   ]
  },
  {
   "cell_type": "code",
   "execution_count": 76,
   "metadata": {},
   "outputs": [
    {
     "data": {
      "text/plain": [
       "[<KerasTensor: shape=(None, 1) dtype=float32 (created by layer 'Store_input')>,\n",
       " <KerasTensor: shape=(None, 1) dtype=float32 (created by layer 'DayOfWeek_input')>]"
      ]
     },
     "execution_count": 76,
     "metadata": {},
     "output_type": "execute_result"
    }
   ],
   "source": [
    "# Descomentar para ver resultados\n",
    "cat_vars_embed_outs\n",
    "cat_var_inputs\n"
   ]
  },
  {
   "cell_type": "code",
   "execution_count": 77,
   "metadata": {},
   "outputs": [
    {
     "data": {
      "text/plain": [
       "[<KerasTensor: shape=(None, 1) dtype=float32 (created by layer 'BeforeStateHoliday_bool_input')>,\n",
       " <KerasTensor: shape=(None, 1) dtype=float32 (created by layer 'Max_TemperatureC_input')>]"
      ]
     },
     "execution_count": 77,
     "metadata": {},
     "output_type": "execute_result"
    }
   ],
   "source": [
    "cont_vars_inputs\n",
    "cont_vars_outs"
   ]
  },
  {
   "cell_type": "code",
   "execution_count": 78,
   "metadata": {},
   "outputs": [],
   "source": [
    "first_hidden_units = 1000\n",
    "second_hidden_units = 500\n",
    "l2_lambda = 1e-3\n",
    "merged = Concatenate(name='All_Concatenate')(cat_vars_embed_outs + cont_vars_inputs)\n",
    "x = Dense(first_hidden_units, kernel_initializer=\"uniform\", kernel_regularizer=l2(l2_lambda))(merged)\n",
    "#x = BatchNormalization()(x)\n",
    "x = Activation('relu')(x)\n",
    "#x = LeakyReLU()(x)\n",
    "x = Dense(second_hidden_units, kernel_initializer=\"uniform\", kernel_regularizer=l2(l2_lambda))(x)\n",
    "#x = BatchNormalization()(x)\n",
    "x = Activation('relu')(x)\n",
    "#x = LeakyReLU()(x)\n",
    "\n",
    "output_1 = Dense(1, name='Sales', activation=output_activation)(x)\n",
    "output_2 = Dense(1, name='Customers', activation=output_activation)(x)"
   ]
  },
  {
   "cell_type": "code",
   "execution_count": 79,
   "metadata": {},
   "outputs": [],
   "source": [
    "if add_customers:\n",
    "    model = Model(cat_var_inputs + cont_vars_inputs, [output_1, output_2])\n",
    "else: \n",
    "    model = Model(cat_var_inputs + cont_vars_inputs, [output_1])"
   ]
  },
  {
   "cell_type": "code",
   "execution_count": 80,
   "metadata": {},
   "outputs": [
    {
     "name": "stdout",
     "output_type": "stream",
     "text": [
      "Model: \"model_1\"\n",
      "__________________________________________________________________________________________________\n",
      "Layer (type)                    Output Shape         Param #     Connected to                     \n",
      "==================================================================================================\n",
      "Store_input (InputLayer)        [(None, 1)]          0                                            \n",
      "__________________________________________________________________________________________________\n",
      "DayOfWeek_input (InputLayer)    [(None, 1)]          0                                            \n",
      "__________________________________________________________________________________________________\n",
      "Store_Embed (Embedding)         (None, 1, 50)        55750       Store_input[0][0]                \n",
      "__________________________________________________________________________________________________\n",
      "DayOfWeek_Embed (Embedding)     (None, 1, 2)         14          DayOfWeek_input[0][0]            \n",
      "__________________________________________________________________________________________________\n",
      "Store_flat (Flatten)            (None, 50)           0           Store_Embed[0][0]                \n",
      "__________________________________________________________________________________________________\n",
      "DayOfWeek_flat (Flatten)        (None, 2)            0           DayOfWeek_Embed[0][0]            \n",
      "__________________________________________________________________________________________________\n",
      "BeforeStateHoliday_bool_input ( [(None, 1)]          0                                            \n",
      "__________________________________________________________________________________________________\n",
      "Max_TemperatureC_input (InputLa [(None, 1)]          0                                            \n",
      "__________________________________________________________________________________________________\n",
      "All_Concatenate (Concatenate)   (None, 54)           0           Store_flat[0][0]                 \n",
      "                                                                 DayOfWeek_flat[0][0]             \n",
      "                                                                 BeforeStateHoliday_bool_input[0][\n",
      "                                                                 Max_TemperatureC_input[0][0]     \n",
      "__________________________________________________________________________________________________\n",
      "dense_2 (Dense)                 (None, 1000)         55000       All_Concatenate[0][0]            \n",
      "__________________________________________________________________________________________________\n",
      "activation_2 (Activation)       (None, 1000)         0           dense_2[0][0]                    \n",
      "__________________________________________________________________________________________________\n",
      "dense_3 (Dense)                 (None, 500)          500500      activation_2[0][0]               \n",
      "__________________________________________________________________________________________________\n",
      "activation_3 (Activation)       (None, 500)          0           dense_3[0][0]                    \n",
      "__________________________________________________________________________________________________\n",
      "Sales (Dense)                   (None, 1)            501         activation_3[0][0]               \n",
      "__________________________________________________________________________________________________\n",
      "Customers (Dense)               (None, 1)            501         activation_3[0][0]               \n",
      "==================================================================================================\n",
      "Total params: 612,266\n",
      "Trainable params: 612,266\n",
      "Non-trainable params: 0\n",
      "__________________________________________________________________________________________________\n"
     ]
    }
   ],
   "source": [
    "# Descomentar para ver\n",
    "model.summary()"
   ]
  },
  {
   "cell_type": "code",
   "execution_count": 81,
   "metadata": {},
   "outputs": [],
   "source": [
    "model.save_weights('initial_weights.hdf5')"
   ]
  },
  {
   "cell_type": "code",
   "execution_count": 82,
   "metadata": {},
   "outputs": [
    {
     "name": "stdout",
     "output_type": "stream",
     "text": [
      "Cantidad en val: 30188, porcentaje: 0.9642465458145908\n"
     ]
    }
   ],
   "source": [
    "df_train = df[df.Date < datetime.datetime(2015, 7, 1)]  \n",
    "df_val = df[df.Date >= datetime.datetime(2015, 7, 1)]\n",
    "print(f'Cantidad en val: {len(df_val)}, porcentaje: {len(df_train)/(len(df_train) + len(df_val))}')"
   ]
  },
  {
   "cell_type": "code",
   "execution_count": 83,
   "metadata": {},
   "outputs": [
    {
     "data": {
      "text/plain": [
       "(30188, 108)"
      ]
     },
     "execution_count": 83,
     "metadata": {},
     "output_type": "execute_result"
    }
   ],
   "source": [
    "\n",
    "np.shape(df_val)"
   ]
  },
  {
   "cell_type": "code",
   "execution_count": 84,
   "metadata": {},
   "outputs": [
    {
     "data": {
      "text/plain": [
       "(814150, 108)"
      ]
     },
     "execution_count": 84,
     "metadata": {},
     "output_type": "execute_result"
    }
   ],
   "source": [
    "np.shape(df_train)"
   ]
  },
  {
   "cell_type": "code",
   "execution_count": 85,
   "metadata": {},
   "outputs": [],
   "source": [
    "# ventas normalizadas por tienda en el transcurso del tiempo Date.\n",
    "\n",
    "from matplotlib import pyplot as plt\n",
    "# plt.figure(figsize=(20,5))\n",
    "# plt.plot((df_train[df_train['Store']==1]['Sales'].values - df_train[df_train['Store']==1]['Sales'].mean())/df_train[df_train['Store']==1]['Sales'].std())\n",
    "# plt.show()\n",
    "# plt.figure(figsize=(20,5))\n",
    "# plt.plot(np.log(df_train[df_train['Store']==1]['Sales'].values)/np.max(np.log(df_train[df_train['Store']==1]['Sales'].values)))\n",
    "# plt.show()"
   ]
  },
  {
   "cell_type": "code",
   "execution_count": 86,
   "metadata": {},
   "outputs": [],
   "source": [
    "stores_mean = {}\n",
    "for store, g_df in df_train.groupby('Store'):\n",
    "    stores_mean[store] = g_df[g_df['Sales'] > 0]['Sales'].mean()"
   ]
  },
  {
   "cell_type": "code",
   "execution_count": 87,
   "metadata": {},
   "outputs": [
    {
     "data": {
      "text/plain": [
       "30188    0\n",
       "30189    1\n",
       "30190    2\n",
       "30191    3\n",
       "30192    4\n",
       "Name: Store, dtype: int64"
      ]
     },
     "execution_count": 87,
     "metadata": {},
     "output_type": "execute_result"
    }
   ],
   "source": [
    "df_train['Store'].head()"
   ]
  },
  {
   "cell_type": "code",
   "execution_count": 88,
   "metadata": {},
   "outputs": [
    {
     "name": "stdout",
     "output_type": "stream",
     "text": [
      "4768.684350132626\n"
     ]
    }
   ],
   "source": [
    "print(stores_mean.get(0))"
   ]
  },
  {
   "cell_type": "code",
   "execution_count": 89,
   "metadata": {},
   "outputs": [
    {
     "name": "stderr",
     "output_type": "stream",
     "text": [
      "/home/j3nnn1/anaconda3/envs/mlp_machinelearning/lib/python3.9/site-packages/pandas/core/indexing.py:1667: SettingWithCopyWarning: \n",
      "A value is trying to be set on a copy of a slice from a DataFrame.\n",
      "Try using .loc[row_indexer,col_indexer] = value instead\n",
      "\n",
      "See the caveats in the documentation: https://pandas.pydata.org/pandas-docs/stable/user_guide/indexing.html#returning-a-view-versus-a-copy\n",
      "  self.obj[key] = value\n"
     ]
    }
   ],
   "source": [
    "df_train.loc[:, 'mean_by_store'] = df_train['Store'].apply(stores_mean.get)\n",
    "df_val.loc[:, 'mean_by_store'] = df_val['Store'].apply(stores_mean.get)\n",
    "\n",
    "df_train.loc[:, 'Sales_store'] = df_train['Sales'] - df_train['mean_by_store']\n",
    "df_val.loc[:, 'Sales_store'] = df_val['Sales'] - df_val['mean_by_store']"
   ]
  },
  {
   "cell_type": "code",
   "execution_count": 90,
   "metadata": {},
   "outputs": [
    {
     "data": {
      "text/html": [
       "<div>\n",
       "<style scoped>\n",
       "    .dataframe tbody tr th:only-of-type {\n",
       "        vertical-align: middle;\n",
       "    }\n",
       "\n",
       "    .dataframe tbody tr th {\n",
       "        vertical-align: top;\n",
       "    }\n",
       "\n",
       "    .dataframe thead th {\n",
       "        text-align: right;\n",
       "    }\n",
       "</style>\n",
       "<table border=\"1\" class=\"dataframe\">\n",
       "  <thead>\n",
       "    <tr style=\"text-align: right;\">\n",
       "      <th></th>\n",
       "      <th>Store</th>\n",
       "      <th>mean_by_store</th>\n",
       "    </tr>\n",
       "  </thead>\n",
       "  <tbody>\n",
       "    <tr>\n",
       "      <th>30188</th>\n",
       "      <td>0</td>\n",
       "      <td>4768.684350</td>\n",
       "    </tr>\n",
       "    <tr>\n",
       "      <th>30189</th>\n",
       "      <td>1</td>\n",
       "      <td>4953.887715</td>\n",
       "    </tr>\n",
       "    <tr>\n",
       "      <th>30190</th>\n",
       "      <td>2</td>\n",
       "      <td>6947.773936</td>\n",
       "    </tr>\n",
       "    <tr>\n",
       "      <th>30191</th>\n",
       "      <td>3</td>\n",
       "      <td>9616.343461</td>\n",
       "    </tr>\n",
       "    <tr>\n",
       "      <th>30192</th>\n",
       "      <td>4</td>\n",
       "      <td>4679.026596</td>\n",
       "    </tr>\n",
       "    <tr>\n",
       "      <th>...</th>\n",
       "      <td>...</td>\n",
       "      <td>...</td>\n",
       "    </tr>\n",
       "    <tr>\n",
       "      <th>844333</th>\n",
       "      <td>681</td>\n",
       "      <td>11202.916575</td>\n",
       "    </tr>\n",
       "    <tr>\n",
       "      <th>844334</th>\n",
       "      <td>732</td>\n",
       "      <td>14945.514819</td>\n",
       "    </tr>\n",
       "    <tr>\n",
       "      <th>844335</th>\n",
       "      <td>768</td>\n",
       "      <td>10782.140505</td>\n",
       "    </tr>\n",
       "    <tr>\n",
       "      <th>844336</th>\n",
       "      <td>947</td>\n",
       "      <td>6888.931920</td>\n",
       "    </tr>\n",
       "    <tr>\n",
       "      <th>844337</th>\n",
       "      <td>1096</td>\n",
       "      <td>9707.979144</td>\n",
       "    </tr>\n",
       "  </tbody>\n",
       "</table>\n",
       "<p>814150 rows × 2 columns</p>\n",
       "</div>"
      ],
      "text/plain": [
       "        Store  mean_by_store\n",
       "30188       0    4768.684350\n",
       "30189       1    4953.887715\n",
       "30190       2    6947.773936\n",
       "30191       3    9616.343461\n",
       "30192       4    4679.026596\n",
       "...       ...            ...\n",
       "844333    681   11202.916575\n",
       "844334    732   14945.514819\n",
       "844335    768   10782.140505\n",
       "844336    947    6888.931920\n",
       "844337   1096    9707.979144\n",
       "\n",
       "[814150 rows x 2 columns]"
      ]
     },
     "execution_count": 90,
     "metadata": {},
     "output_type": "execute_result"
    }
   ],
   "source": [
    "df_train.loc[:, ['Store','mean_by_store']]"
   ]
  },
  {
   "cell_type": "code",
   "execution_count": 91,
   "metadata": {},
   "outputs": [
    {
     "data": {
      "text/html": [
       "<div>\n",
       "<style scoped>\n",
       "    .dataframe tbody tr th:only-of-type {\n",
       "        vertical-align: middle;\n",
       "    }\n",
       "\n",
       "    .dataframe tbody tr th {\n",
       "        vertical-align: top;\n",
       "    }\n",
       "\n",
       "    .dataframe thead th {\n",
       "        text-align: right;\n",
       "    }\n",
       "</style>\n",
       "<table border=\"1\" class=\"dataframe\">\n",
       "  <thead>\n",
       "    <tr style=\"text-align: right;\">\n",
       "      <th></th>\n",
       "      <th>Store</th>\n",
       "      <th>Sales_store</th>\n",
       "    </tr>\n",
       "  </thead>\n",
       "  <tbody>\n",
       "    <tr>\n",
       "      <th>30188</th>\n",
       "      <td>0</td>\n",
       "      <td>966.315650</td>\n",
       "    </tr>\n",
       "    <tr>\n",
       "      <th>30189</th>\n",
       "      <td>1</td>\n",
       "      <td>4909.112285</td>\n",
       "    </tr>\n",
       "    <tr>\n",
       "      <th>30190</th>\n",
       "      <td>2</td>\n",
       "      <td>6313.226064</td>\n",
       "    </tr>\n",
       "    <tr>\n",
       "      <th>30191</th>\n",
       "      <td>3</td>\n",
       "      <td>3489.656539</td>\n",
       "    </tr>\n",
       "    <tr>\n",
       "      <th>30192</th>\n",
       "      <td>4</td>\n",
       "      <td>1955.973404</td>\n",
       "    </tr>\n",
       "    <tr>\n",
       "      <th>...</th>\n",
       "      <td>...</td>\n",
       "      <td>...</td>\n",
       "    </tr>\n",
       "    <tr>\n",
       "      <th>844333</th>\n",
       "      <td>681</td>\n",
       "      <td>-7827.916575</td>\n",
       "    </tr>\n",
       "    <tr>\n",
       "      <th>844334</th>\n",
       "      <td>732</td>\n",
       "      <td>-4180.514819</td>\n",
       "    </tr>\n",
       "    <tr>\n",
       "      <th>844335</th>\n",
       "      <td>768</td>\n",
       "      <td>-5747.140505</td>\n",
       "    </tr>\n",
       "    <tr>\n",
       "      <th>844336</th>\n",
       "      <td>947</td>\n",
       "      <td>-2397.931920</td>\n",
       "    </tr>\n",
       "    <tr>\n",
       "      <th>844337</th>\n",
       "      <td>1096</td>\n",
       "      <td>-3746.979144</td>\n",
       "    </tr>\n",
       "  </tbody>\n",
       "</table>\n",
       "<p>814150 rows × 2 columns</p>\n",
       "</div>"
      ],
      "text/plain": [
       "        Store  Sales_store\n",
       "30188       0   966.315650\n",
       "30189       1  4909.112285\n",
       "30190       2  6313.226064\n",
       "30191       3  3489.656539\n",
       "30192       4  1955.973404\n",
       "...       ...          ...\n",
       "844333    681 -7827.916575\n",
       "844334    732 -4180.514819\n",
       "844335    768 -5747.140505\n",
       "844336    947 -2397.931920\n",
       "844337   1096 -3746.979144\n",
       "\n",
       "[814150 rows x 2 columns]"
      ]
     },
     "execution_count": 91,
     "metadata": {},
     "output_type": "execute_result"
    }
   ],
   "source": [
    "df_train.loc[:, ['Store','Sales_store']]"
   ]
  },
  {
   "cell_type": "code",
   "execution_count": 92,
   "metadata": {},
   "outputs": [],
   "source": [
    "from tensorflow.keras import backend as K"
   ]
  },
  {
   "cell_type": "code",
   "execution_count": 93,
   "metadata": {},
   "outputs": [],
   "source": [
    "def rmspe(y_true, y_pred):\n",
    "    return K.sqrt(K.mean(K.square((y_true - y_pred)/y_true)))"
   ]
  },
  {
   "cell_type": "code",
   "execution_count": 94,
   "metadata": {},
   "outputs": [],
   "source": [
    "def get_metric(df, sales_):\n",
    "    return np.sqrt((((df['Sales'] - sales_)/df['Sales'])**2).mean())"
   ]
  },
  {
   "cell_type": "code",
   "execution_count": 95,
   "metadata": {},
   "outputs": [
    {
     "data": {
      "text/plain": [
       "0.3071746085338871"
      ]
     },
     "execution_count": 95,
     "metadata": {},
     "output_type": "execute_result"
    }
   ],
   "source": [
    "get_metric(df_val, df_val['mean_by_store'])\n",
    "# github OUT:  0.0943562401279468\n",
    "# local : 0.3071746085338871\n",
    "# colab: 0.30717460853388645"
   ]
  },
  {
   "cell_type": "code",
   "execution_count": 96,
   "metadata": {},
   "outputs": [
    {
     "data": {
      "text/plain": [
       "(41088, 105)"
      ]
     },
     "execution_count": 96,
     "metadata": {},
     "output_type": "execute_result"
    }
   ],
   "source": [
    "np.shape(df_test)"
   ]
  },
  {
   "cell_type": "code",
   "execution_count": 97,
   "metadata": {},
   "outputs": [],
   "source": [
    "all_vars = cat_vars + contin_vars\n",
    "X_train = np.hsplit(df_train[all_vars].values, len(all_vars))\n",
    "X_val = np.hsplit(df_val[all_vars].values, len(all_vars))\n",
    "X_test = np.hsplit(df_test[all_vars].values, len(all_vars))"
   ]
  },
  {
   "cell_type": "code",
   "execution_count": 98,
   "metadata": {
    "pycharm": {
     "name": "#%%\n"
    }
   },
   "outputs": [
    {
     "name": "stdout",
     "output_type": "stream",
     "text": [
      "['Store', 'DayOfWeek', 'BeforeStateHoliday_bool', 'Max_TemperatureC']\n",
      "\n",
      "all vars:  4\n",
      "categoricas vars:  2\n",
      "continuas vars:  2\n",
      "\n",
      "X_val shape:  (4, 30188, 1)\n",
      "X_train shape:  (4, 814150, 1)\n",
      "X_test shape:  (4, 41088, 1)\n",
      "\n",
      "df_train[all_vars].shape (814150, 4)\n"
     ]
    }
   ],
   "source": [
    "print(all_vars)\n",
    "print(\"\")\n",
    "\n",
    "print(\"all vars: \", len(all_vars))\n",
    "print(\"categoricas vars: \", len(cat_vars))\n",
    "print(\"continuas vars: \", len(contin_vars))\n",
    "\n",
    "print(\"\")\n",
    "print(\"X_val shape: \", np.shape(X_val))\n",
    "print(\"X_train shape: \", np.shape(X_train))\n",
    "print(\"X_test shape: \", np.shape(X_test))\n",
    "\n",
    "print(\"\")\n",
    "print(\"df_train[all_vars].shape\" , df_train[all_vars].shape)\n"
   ]
  },
  {
   "cell_type": "code",
   "execution_count": 115,
   "metadata": {},
   "outputs": [
    {
     "name": "stdout",
     "output_type": "stream",
     "text": [
      "\n",
      "add_customers - y_out_columns: ['Sales', 'Customers']\n",
      "\n",
      "transforming to normal output( X / max)\n",
      "\n",
      "hsplit: y_train - y_val (814150, 2) (30188, 2)\n"
     ]
    }
   ],
   "source": [
    "if add_customers:\n",
    "    y_out_columns = ['Sales', 'Customers']\n",
    "else:\n",
    "    y_out_columns = ['Sales_store']\n",
    "\n",
    "print(\"\")\n",
    "print(\"add_customers - y_out_columns:\", y_out_columns)\n",
    "print(\"\")\n",
    "\n",
    "if log_output:\n",
    "    print(\"transforming to logarithm output: \")\n",
    "    # Escala logaritmica\n",
    "    max_log_y = np.max(np.log(df[y_out_columns])).values\n",
    "    y_train = np.log(df_train[y_out_columns].values)/max_log_y\n",
    "    y_val = np.log(df_val[y_out_columns].values)/max_log_y\n",
    "else:\n",
    "    # Normalización\n",
    "    y_mean = df_train[y_out_columns].mean().values\n",
    "    y_std = df_train[y_out_columns].std().values\n",
    "#   print(\"transforming to normal output( X - mean/std\")\n",
    "#   y_train = (df_train[y_out_columns].values - y_mean)/y_std\n",
    "#   y_val = (df_val[y_out_columns].values - y_mean)/y_std\n",
    "    print(\"transforming to normal output( X / max)\")\n",
    "    y_max = df_train[y_out_columns].max().values\n",
    "    y_train = df_train[y_out_columns].values/y_max\n",
    "    y_val = df_val[y_out_columns].values/y_max\n",
    "\n",
    "print(\"\")\n",
    "print(\"hsplit: y_train - y_val\", y_train.shape, y_val.shape)    \n",
    "y_train = np.hsplit(y_train, y_train.shape[1])\n",
    "y_val = np.hsplit(y_val, y_val.shape[1])"
   ]
  },
  {
   "cell_type": "code",
   "execution_count": 116,
   "metadata": {
    "pycharm": {
     "name": "#%%\n"
    }
   },
   "outputs": [
    {
     "name": "stdout",
     "output_type": "stream",
     "text": [
      "after hsplit: y_train - y_val\n",
      "(2, 814150, 1)\n",
      "(2, 30188, 1)\n"
     ]
    }
   ],
   "source": [
    "print(\"after hsplit: y_train - y_val\")\n",
    "print(np.shape(y_train))\n",
    "print(np.shape(y_val))"
   ]
  },
  {
   "cell_type": "code",
   "execution_count": 103,
   "metadata": {},
   "outputs": [],
   "source": [
    "lr = 0.001\n",
    "model.compile(optimizer=Adam(learning_rate=lr), metrics=['mse', rmspe], loss='mse')"
   ]
  },
  {
   "cell_type": "code",
   "execution_count": 104,
   "metadata": {},
   "outputs": [],
   "source": [
    "add_customers = True\n",
    "if add_customers:\n",
    "    checkpoint = ModelCheckpoint('bestmodel.hdf5', monitor='val_Sales_mse', verbose=1, save_best_only=True)\n",
    "else:\n",
    "    checkpoint = ModelCheckpoint('bestmodel.hdf5', monitor='val_loss', verbose=1, save_best_only=True)"
   ]
  },
  {
   "cell_type": "code",
   "execution_count": 105,
   "metadata": {
    "pycharm": {
     "name": "#%%\n"
    }
   },
   "outputs": [
    {
     "name": "stdout",
     "output_type": "stream",
     "text": [
      "<class 'keras.callbacks.ModelCheckpoint'>\n"
     ]
    }
   ],
   "source": [
    "print(type(checkpoint))\n"
   ]
  },
  {
   "cell_type": "code",
   "execution_count": 106,
   "metadata": {
    "pycharm": {
     "name": "#%%\n"
    }
   },
   "outputs": [
    {
     "name": "stdout",
     "output_type": "stream",
     "text": [
      "(4, 814150, 1)\n",
      "(2, 814150, 1)\n",
      "(4, 30188, 1)\n",
      "(2, 30188, 1)\n"
     ]
    }
   ],
   "source": [
    "print(np.shape(X_train))\n",
    "print(np.shape(y_train))\n",
    "print(np.shape(X_val))\n",
    "print(np.shape(y_val))"
   ]
  },
  {
   "cell_type": "code",
   "execution_count": 107,
   "metadata": {
    "pycharm": {
     "is_executing": true
    }
   },
   "outputs": [
    {
     "name": "stderr",
     "output_type": "stream",
     "text": [
      "2021-09-01 11:43:14.399837: I tensorflow/compiler/mlir/mlir_graph_optimization_pass.cc:185] None of the MLIR Optimization Passes are enabled (registered 2)\n"
     ]
    },
    {
     "name": "stdout",
     "output_type": "stream",
     "text": [
      "Epoch 1/20\n",
      "3181/3181 - 62s - loss: 0.0068 - Sales_loss: 0.0023 - Customers_loss: 8.5130e-04 - Sales_mse: 0.0023 - Sales_rmspe: 0.3544 - Customers_mse: 8.5130e-04 - Customers_rmspe: 0.3191 - val_loss: 0.0026 - val_Sales_loss: 0.0017 - val_Customers_loss: 7.1813e-04 - val_Sales_mse: 0.0017 - val_Sales_rmspe: 0.2806 - val_Customers_mse: 7.1813e-04 - val_Customers_rmspe: 0.2865\n",
      "\n",
      "Epoch 00001: val_Sales_mse improved from inf to 0.00171, saving model to bestmodel.hdf5\n",
      "Epoch 2/20\n",
      "3181/3181 - 63s - loss: 0.0028 - Sales_loss: 0.0020 - Customers_loss: 5.6718e-04 - Sales_mse: 0.0020 - Sales_rmspe: 0.3294 - Customers_mse: 5.6718e-04 - Customers_rmspe: 0.2826 - val_loss: 0.0020 - val_Sales_loss: 0.0015 - val_Customers_loss: 4.1285e-04 - val_Sales_mse: 0.0015 - val_Sales_rmspe: 0.2523 - val_Customers_mse: 4.1285e-04 - val_Customers_rmspe: 0.2306\n",
      "\n",
      "Epoch 00002: val_Sales_mse improved from 0.00171 to 0.00145, saving model to bestmodel.hdf5\n",
      "Epoch 3/20\n",
      "3181/3181 - 63s - loss: 0.0025 - Sales_loss: 0.0019 - Customers_loss: 4.5507e-04 - Sales_mse: 0.0019 - Sales_rmspe: 0.3218 - Customers_mse: 4.5507e-04 - Customers_rmspe: 0.2631 - val_loss: 0.0020 - val_Sales_loss: 0.0015 - val_Customers_loss: 3.8021e-04 - val_Sales_mse: 0.0015 - val_Sales_rmspe: 0.2522 - val_Customers_mse: 3.8021e-04 - val_Customers_rmspe: 0.2168\n",
      "\n",
      "Epoch 00003: val_Sales_mse did not improve from 0.00145\n",
      "Epoch 4/20\n",
      "3181/3181 - 61s - loss: 0.0025 - Sales_loss: 0.0019 - Customers_loss: 4.5019e-04 - Sales_mse: 0.0019 - Sales_rmspe: 0.3209 - Customers_mse: 4.5019e-04 - Customers_rmspe: 0.2591 - val_loss: 0.0019 - val_Sales_loss: 0.0015 - val_Customers_loss: 3.5142e-04 - val_Sales_mse: 0.0015 - val_Sales_rmspe: 0.2396 - val_Customers_mse: 3.5142e-04 - val_Customers_rmspe: 0.2002\n",
      "\n",
      "Epoch 00004: val_Sales_mse did not improve from 0.00145\n",
      "Epoch 5/20\n",
      "3181/3181 - 61s - loss: 0.0025 - Sales_loss: 0.0019 - Customers_loss: 4.5114e-04 - Sales_mse: 0.0019 - Sales_rmspe: 0.3200 - Customers_mse: 4.5114e-04 - Customers_rmspe: 0.2578 - val_loss: 0.0020 - val_Sales_loss: 0.0015 - val_Customers_loss: 3.6684e-04 - val_Sales_mse: 0.0015 - val_Sales_rmspe: 0.2363 - val_Customers_mse: 3.6684e-04 - val_Customers_rmspe: 0.2065\n",
      "\n",
      "Epoch 00005: val_Sales_mse did not improve from 0.00145\n",
      "Epoch 6/20\n",
      "3181/3181 - 61s - loss: 0.0025 - Sales_loss: 0.0019 - Customers_loss: 4.5101e-04 - Sales_mse: 0.0019 - Sales_rmspe: 0.3188 - Customers_mse: 4.5101e-04 - Customers_rmspe: 0.2571 - val_loss: 0.0019 - val_Sales_loss: 0.0015 - val_Customers_loss: 3.3747e-04 - val_Sales_mse: 0.0015 - val_Sales_rmspe: 0.2401 - val_Customers_mse: 3.3747e-04 - val_Customers_rmspe: 0.1969\n",
      "\n",
      "Epoch 00006: val_Sales_mse did not improve from 0.00145\n",
      "Epoch 7/20\n",
      "3181/3181 - 61s - loss: 0.0025 - Sales_loss: 0.0019 - Customers_loss: 4.4897e-04 - Sales_mse: 0.0019 - Sales_rmspe: 0.3178 - Customers_mse: 4.4897e-04 - Customers_rmspe: 0.2560 - val_loss: 0.0019 - val_Sales_loss: 0.0014 - val_Customers_loss: 3.6843e-04 - val_Sales_mse: 0.0014 - val_Sales_rmspe: 0.2509 - val_Customers_mse: 3.6843e-04 - val_Customers_rmspe: 0.2057\n",
      "\n",
      "Epoch 00007: val_Sales_mse improved from 0.00145 to 0.00144, saving model to bestmodel.hdf5\n",
      "Epoch 8/20\n",
      "3181/3181 - 61s - loss: 0.0024 - Sales_loss: 0.0019 - Customers_loss: 4.4667e-04 - Sales_mse: 0.0019 - Sales_rmspe: 0.3170 - Customers_mse: 4.4667e-04 - Customers_rmspe: 0.2547 - val_loss: 0.0019 - val_Sales_loss: 0.0014 - val_Customers_loss: 3.3273e-04 - val_Sales_mse: 0.0014 - val_Sales_rmspe: 0.2356 - val_Customers_mse: 3.3273e-04 - val_Customers_rmspe: 0.1959\n",
      "\n",
      "Epoch 00008: val_Sales_mse improved from 0.00144 to 0.00144, saving model to bestmodel.hdf5\n",
      "Epoch 9/20\n",
      "3181/3181 - 61s - loss: 0.0024 - Sales_loss: 0.0019 - Customers_loss: 4.4609e-04 - Sales_mse: 0.0019 - Sales_rmspe: 0.3163 - Customers_mse: 4.4609e-04 - Customers_rmspe: 0.2545 - val_loss: 0.0019 - val_Sales_loss: 0.0014 - val_Customers_loss: 3.4988e-04 - val_Sales_mse: 0.0014 - val_Sales_rmspe: 0.2380 - val_Customers_mse: 3.4988e-04 - val_Customers_rmspe: 0.1994\n",
      "\n",
      "Epoch 00009: val_Sales_mse improved from 0.00144 to 0.00142, saving model to bestmodel.hdf5\n",
      "Epoch 10/20\n",
      "3181/3181 - 61s - loss: 0.0024 - Sales_loss: 0.0019 - Customers_loss: 4.4343e-04 - Sales_mse: 0.0019 - Sales_rmspe: 0.3155 - Customers_mse: 4.4343e-04 - Customers_rmspe: 0.2538 - val_loss: 0.0019 - val_Sales_loss: 0.0014 - val_Customers_loss: 3.6082e-04 - val_Sales_mse: 0.0014 - val_Sales_rmspe: 0.2438 - val_Customers_mse: 3.6082e-04 - val_Customers_rmspe: 0.2026\n",
      "\n",
      "Epoch 00010: val_Sales_mse did not improve from 0.00142\n",
      "Epoch 11/20\n",
      "3181/3181 - 61s - loss: 0.0024 - Sales_loss: 0.0019 - Customers_loss: 4.4330e-04 - Sales_mse: 0.0019 - Sales_rmspe: 0.3145 - Customers_mse: 4.4330e-04 - Customers_rmspe: 0.2532 - val_loss: 0.0019 - val_Sales_loss: 0.0015 - val_Customers_loss: 3.3546e-04 - val_Sales_mse: 0.0015 - val_Sales_rmspe: 0.2328 - val_Customers_mse: 3.3546e-04 - val_Customers_rmspe: 0.1919\n",
      "\n",
      "Epoch 00011: val_Sales_mse did not improve from 0.00142\n",
      "Epoch 12/20\n",
      "3181/3181 - 61s - loss: 0.0024 - Sales_loss: 0.0019 - Customers_loss: 4.2710e-04 - Sales_mse: 0.0019 - Sales_rmspe: 0.3070 - Customers_mse: 4.2710e-04 - Customers_rmspe: 0.2443 - val_loss: 0.0018 - val_Sales_loss: 0.0013 - val_Customers_loss: 3.3164e-04 - val_Sales_mse: 0.0013 - val_Sales_rmspe: 0.2263 - val_Customers_mse: 3.3164e-04 - val_Customers_rmspe: 0.1825\n",
      "\n",
      "Epoch 00012: val_Sales_mse improved from 0.00142 to 0.00135, saving model to bestmodel.hdf5\n",
      "Epoch 13/20\n",
      "3181/3181 - 61s - loss: 0.0022 - Sales_loss: 0.0018 - Customers_loss: 3.7721e-04 - Sales_mse: 0.0018 - Sales_rmspe: 0.2842 - Customers_mse: 3.7721e-04 - Customers_rmspe: 0.2140 - val_loss: 0.0018 - val_Sales_loss: 0.0013 - val_Customers_loss: 3.4972e-04 - val_Sales_mse: 0.0013 - val_Sales_rmspe: 0.2260 - val_Customers_mse: 3.4972e-04 - val_Customers_rmspe: 0.1945\n",
      "\n",
      "Epoch 00013: val_Sales_mse improved from 0.00135 to 0.00132, saving model to bestmodel.hdf5\n",
      "Epoch 14/20\n",
      "3181/3181 - 61s - loss: 0.0022 - Sales_loss: 0.0017 - Customers_loss: 3.7253e-04 - Sales_mse: 0.0017 - Sales_rmspe: 0.2824 - Customers_mse: 3.7253e-04 - Customers_rmspe: 0.2108 - val_loss: 0.0018 - val_Sales_loss: 0.0014 - val_Customers_loss: 3.2607e-04 - val_Sales_mse: 0.0014 - val_Sales_rmspe: 0.2195 - val_Customers_mse: 3.2607e-04 - val_Customers_rmspe: 0.1813\n",
      "\n",
      "Epoch 00014: val_Sales_mse did not improve from 0.00132\n",
      "Epoch 15/20\n",
      "3181/3181 - 61s - loss: 0.0022 - Sales_loss: 0.0017 - Customers_loss: 3.7185e-04 - Sales_mse: 0.0017 - Sales_rmspe: 0.2820 - Customers_mse: 3.7185e-04 - Customers_rmspe: 0.2104 - val_loss: 0.0017 - val_Sales_loss: 0.0013 - val_Customers_loss: 2.9260e-04 - val_Sales_mse: 0.0013 - val_Sales_rmspe: 0.2184 - val_Customers_mse: 2.9260e-04 - val_Customers_rmspe: 0.1788\n",
      "\n",
      "Epoch 00015: val_Sales_mse improved from 0.00132 to 0.00130, saving model to bestmodel.hdf5\n",
      "Epoch 16/20\n",
      "3181/3181 - 61s - loss: 0.0022 - Sales_loss: 0.0017 - Customers_loss: 3.7151e-04 - Sales_mse: 0.0017 - Sales_rmspe: 0.2818 - Customers_mse: 3.7151e-04 - Customers_rmspe: 0.2103 - val_loss: 0.0017 - val_Sales_loss: 0.0013 - val_Customers_loss: 2.9855e-04 - val_Sales_mse: 0.0013 - val_Sales_rmspe: 0.2228 - val_Customers_mse: 2.9855e-04 - val_Customers_rmspe: 0.1789\n",
      "\n",
      "Epoch 00016: val_Sales_mse did not improve from 0.00130\n",
      "Epoch 17/20\n",
      "3181/3181 - 61s - loss: 0.0022 - Sales_loss: 0.0017 - Customers_loss: 3.7048e-04 - Sales_mse: 0.0017 - Sales_rmspe: 0.2815 - Customers_mse: 3.7048e-04 - Customers_rmspe: 0.2095 - val_loss: 0.0017 - val_Sales_loss: 0.0013 - val_Customers_loss: 3.4416e-04 - val_Sales_mse: 0.0013 - val_Sales_rmspe: 0.2186 - val_Customers_mse: 3.4416e-04 - val_Customers_rmspe: 0.1937\n",
      "\n",
      "Epoch 00017: val_Sales_mse improved from 0.00130 to 0.00130, saving model to bestmodel.hdf5\n",
      "Epoch 18/20\n",
      "3181/3181 - 64s - loss: 0.0022 - Sales_loss: 0.0017 - Customers_loss: 3.6960e-04 - Sales_mse: 0.0017 - Sales_rmspe: 0.2809 - Customers_mse: 3.6960e-04 - Customers_rmspe: 0.2085 - val_loss: 0.0019 - val_Sales_loss: 0.0014 - val_Customers_loss: 3.8211e-04 - val_Sales_mse: 0.0014 - val_Sales_rmspe: 0.2325 - val_Customers_mse: 3.8211e-04 - val_Customers_rmspe: 0.2032\n",
      "\n",
      "Epoch 00018: val_Sales_mse did not improve from 0.00130\n",
      "Epoch 19/20\n",
      "3181/3181 - 61s - loss: 0.0022 - Sales_loss: 0.0017 - Customers_loss: 3.6946e-04 - Sales_mse: 0.0017 - Sales_rmspe: 0.2813 - Customers_mse: 3.6946e-04 - Customers_rmspe: 0.2085 - val_loss: 0.0017 - val_Sales_loss: 0.0013 - val_Customers_loss: 3.0473e-04 - val_Sales_mse: 0.0013 - val_Sales_rmspe: 0.2126 - val_Customers_mse: 3.0473e-04 - val_Customers_rmspe: 0.1713\n"
     ]
    },
    {
     "name": "stdout",
     "output_type": "stream",
     "text": [
      "\n",
      "Epoch 00019: val_Sales_mse improved from 0.00130 to 0.00129, saving model to bestmodel.hdf5\n",
      "Epoch 20/20\n",
      "3181/3181 - 61s - loss: 0.0022 - Sales_loss: 0.0017 - Customers_loss: 3.6978e-04 - Sales_mse: 0.0017 - Sales_rmspe: 0.2814 - Customers_mse: 3.6978e-04 - Customers_rmspe: 0.2088 - val_loss: 0.0017 - val_Sales_loss: 0.0013 - val_Customers_loss: 3.2696e-04 - val_Sales_mse: 0.0013 - val_Sales_rmspe: 0.2233 - val_Customers_mse: 3.2696e-04 - val_Customers_rmspe: 0.1877\n",
      "\n",
      "Epoch 00020: val_Sales_mse did not improve from 0.00129\n"
     ]
    }
   ],
   "source": [
    "epochs = 20\n",
    "batch_size = 256\n",
    "history = model.fit(X_train, y_train, validation_data=(X_val, y_val),  epochs=epochs, batch_size=batch_size, callbacks=[checkpoint], verbose=2)"
   ]
  },
  {
   "cell_type": "code",
   "execution_count": 108,
   "metadata": {
    "pycharm": {
     "is_executing": true
    }
   },
   "outputs": [
    {
     "data": {
      "image/png": "[encoded data removed]",
      "text/plain": [
       "<Figure size 432x288 with 1 Axes>"
      ]
     },
     "metadata": {
      "needs_background": "light"
     },
     "output_type": "display_data"
    }
   ],
   "source": [
    "#plt.plot(history.history['val_loss'])\n",
    "#plt.plot(history.history['val_Customers_mse'])\n",
    "plt.plot(history.history['val_Sales_mse'])\n",
    "plt.show()\n",
    "# plt.plot(history.history['loss'])\n",
    "# plt.plot(history.history['Customers_mse'])\n",
    "# plt.plot(history.history['Sales_mse'])"
   ]
  },
  {
   "cell_type": "markdown",
   "metadata": {},
   "source": [
    "# Métrica"
   ]
  },
  {
   "cell_type": "markdown",
   "metadata": {},
   "source": [
    "$$\n",
    "\\textrm{RMSE} = \\sqrt{\\frac{1}{n} \\sum_{i=1}^{n} \\left(\\frac{\\hat{y}_i - y_i}{y_i}\\right)^2}\n",
    "$$"
   ]
  },
  {
   "cell_type": "code",
   "execution_count": 109,
   "metadata": {
    "pycharm": {
     "is_executing": true
    }
   },
   "outputs": [
    {
     "name": "stdout",
     "output_type": "stream",
     "text": [
      "944/944 [==============================] - 3s 3ms/step - loss: 0.0017 - Sales_loss: 0.0013 - Customers_loss: 3.2696e-04 - Sales_mse: 0.0013 - Sales_rmspe: 0.2192 - Customers_mse: 3.2696e-04 - Customers_rmspe: 0.1832\n"
     ]
    },
    {
     "data": {
      "text/plain": [
       "[0.001705022295936942,\n",
       " 0.0012963003246113658,\n",
       " 0.0003269621229264885,\n",
       " 0.0012963003246113658,\n",
       " 0.2192399948835373,\n",
       " 0.0003269621229264885,\n",
       " 0.18324674665927887]"
      ]
     },
     "execution_count": 109,
     "metadata": {},
     "output_type": "execute_result"
    }
   ],
   "source": [
    "model.evaluate(X_val, y_val)"
   ]
  },
  {
   "cell_type": "code",
   "execution_count": 110,
   "metadata": {
    "pycharm": {
     "is_executing": true
    }
   },
   "outputs": [
    {
     "name": "stdout",
     "output_type": "stream",
     "text": [
      "944/944 [==============================] - 3s 3ms/step - loss: 0.0017 - Sales_loss: 0.0013 - Customers_loss: 3.0473e-04 - Sales_mse: 0.0013 - Sales_rmspe: 0.2089 - Customers_mse: 3.0473e-04 - Customers_rmspe: 0.1671\n"
     ]
    },
    {
     "data": {
      "text/plain": [
       "[0.0016789649380370975,\n",
       " 0.0012862839503213763,\n",
       " 0.00030472801881842315,\n",
       " 0.0012862839503213763,\n",
       " 0.2089240700006485,\n",
       " 0.00030472801881842315,\n",
       " 0.16714267432689667]"
      ]
     },
     "execution_count": 110,
     "metadata": {},
     "output_type": "execute_result"
    }
   ],
   "source": [
    "model.load_weights('bestmodel.hdf5')\n",
    "model.evaluate(X_val, y_val)"
   ]
  },
  {
   "cell_type": "code",
   "execution_count": 242,
   "metadata": {
    "pycharm": {
     "is_executing": true
    }
   },
   "outputs": [],
   "source": [
    "# model.load_weights('bestmodel.hdf5')\n",
    "# model.evaluate(X_val, y_val)\n",
    "# 30188/30188 [==============================] - 5s 172us/step\n",
    "# [0.12197033089921382,\n",
    "#  0.07211007360268763,\n",
    "#  0.037183713050426136,\n",
    "#  0.07211007360268763,\n",
    "#  0.037183713050426136]\n",
    "\n",
    "# [0.12932546436786652,\n",
    "#  0.07751645147800446,\n",
    "#  0.039259567856788635,\n",
    "#  0.07751645147800446,\n",
    "#  0.039259567856788635]"
   ]
  },
  {
   "cell_type": "code",
   "execution_count": 117,
   "metadata": {
    "pycharm": {
     "is_executing": true
    }
   },
   "outputs": [
    {
     "name": "stdout",
     "output_type": "stream",
     "text": [
      "944/944 [==============================] - 2s 2ms/step\n",
      "1284/1284 [==============================] - 4s 3ms/step\n",
      "\n",
      "shape (df_test) - shape (y_pred_test)\n",
      "(41088, 105)\n",
      "(41088,)\n",
      "\n"
     ]
    }
   ],
   "source": [
    "#log_output = False\n",
    "#add_customers = True\n",
    "if log_output:\n",
    "    if add_customers:\n",
    "        y_pred = np.exp(model.predict(X_val, verbose=1)[0][:, 0]*max_log_y[0])\n",
    "        y_pred_test = np.exp(model.predict(X_test, verbose=1)[0][:, 0]*max_log_y[0])\n",
    "    else:\n",
    "        y_pred = np.exp(model.predict(X_val, verbose=1)*max_log_y)[:,0]\n",
    "        y_pred_test = np.exp(model.predict(X_test, verbose=1)*max_log_y)[:,0]\n",
    "else:\n",
    "    if add_customers:\n",
    "        y_pred = (model.predict(X_val, verbose=1)[0]*y_std[0] + y_mean[0])[:,0]\n",
    "        y_pred_test = (model.predict(X_test, verbose=1)[0]*y_std[0] + y_mean[0])[:,0]\n",
    "    else:\n",
    "        #print(type(X_val))\n",
    "        print(\"X_val - variables: \", len(X_val))\n",
    "        print(\"X_val - filas: \", len(X_val[0]))\n",
    "        #print(type(X_val[3]))\n",
    "        #print(X_val[:,0])\n",
    "        #mp_tmp = model.predict(X_val, verbose=1)\n",
    "        #print(len(mp_tmp))\n",
    "        #print(type(mp_tmp))\n",
    "        #print(type(mp_tmp[0]))\n",
    "        #print(len(mp_tmp[0]))\n",
    "        #print(mp_tmp[0:0])\n",
    "        #print(mp_tmp[0])\n",
    "        #print(mp_tmp[0][0])\n",
    "        #y_pred = mp_tmp[:,0]*y_std + y_mean\n",
    "        #y_pred = mp_tmp[0]*y_std + y_mean\n",
    "        #print(y_pred[0][0])\n",
    "        #y_pred_test = model.predict(X_test, verbose=1)[:,0]*y_std + y_mean\n",
    "        #y_pred_test = model.predict(X_test, verbose=1)[0]*y_std + y_mean\n",
    "        #y_pred = model.predict(X_val, verbose=1)[:,0]*y_max\n",
    "        #y_pred_test = model.predict(X_test, verbose=1)[:,0]*y_max\n",
    "        # print(type(y_pred))\n",
    "        # print(y_pred.shape)\n",
    "        # print(type(y_max))\n",
    "        # print(y_max.shape)\n",
    "        #y_pred = model.predict(X_val, verbose=1)[0]*y_max\n",
    "        #y_pred = model.predict(X_val, verbose=1)[0]\n",
    "        print(\"\")\n",
    "        print(\"model.predict: X_val\")\n",
    "        y_pred = model.predict(X_val, verbose=1) *y_max\n",
    "        print(\"output y_pred: from input X_val\", np.shape(y_pred))\n",
    "        #print(type(y_pred))\n",
    "        #print(y_pred.shape)\n",
    "        #y_pred_test = model.predict(X_test, verbose=1)[0]*y_max\n",
    "        #y_pred_test = model.predict(X_test, verbose=1)[0]\n",
    "        print(\"X_test - variables: \", len(X_test))\n",
    "        print(\"X_test - filas: \", len(X_test[0]))\n",
    "        \n",
    "        print(\"\")\n",
    "        print(\"model.predict: X_test\")\n",
    "        y_pred_test = model.predict(X_test, verbose=1) *y_max\n",
    "        print(\"output y_pred_test: from input X_test\", np.shape(y_pred_test))\n",
    "        print(\"type (y_pred_test): \", type(y_pred_test))\n",
    "        print(\"len (y_pred_test): \" , len(y_pred_test))\n",
    "\n",
    "print(\"\")\n",
    "print(\"shape (df_test) - shape (y_pred_test)\")\n",
    "print(np.shape(df_test))\n",
    "print(np.shape(y_pred_test))\n",
    "print(\"\")\n",
    "y_pred_test[df_test['Open'] == 0] = 0"
   ]
  },
  {
   "cell_type": "code",
   "execution_count": 118,
   "metadata": {},
   "outputs": [
    {
     "data": {
      "text/plain": [
       "(41088,)"
      ]
     },
     "execution_count": 118,
     "metadata": {},
     "output_type": "execute_result"
    }
   ],
   "source": [
    "np.shape(y_pred_test)"
   ]
  },
  {
   "cell_type": "code",
   "execution_count": 119,
   "metadata": {},
   "outputs": [
    {
     "data": {
      "text/plain": [
       "(30188,)"
      ]
     },
     "execution_count": 119,
     "metadata": {},
     "output_type": "execute_result"
    }
   ],
   "source": [
    "np.shape(y_pred)"
   ]
  },
  {
   "cell_type": "code",
   "execution_count": 120,
   "metadata": {
    "pycharm": {
     "is_executing": true,
     "name": "#%%\n"
    }
   },
   "outputs": [
    {
     "name": "stdout",
     "output_type": "stream",
     "text": [
      "0         5263\n",
      "1         6064\n",
      "2         8314\n",
      "3        13995\n",
      "4         4822\n",
      "         ...  \n",
      "30183     3701\n",
      "30184    10620\n",
      "30185     8222\n",
      "30186    27071\n",
      "30187     7701\n",
      "Name: Sales, Length: 30188, dtype: int64\n",
      "7308.6133\n",
      "(30188,)\n",
      "(30188,)\n"
     ]
    }
   ],
   "source": [
    "# 30188 rows\n",
    "print(df_val['Sales'])\n",
    "print(y_pred[0])\n",
    "print(df_val['Sales'].shape)\n",
    "print(y_pred.shape)\n",
    "#print(y_pred.reshape(30188, ))"
   ]
  },
  {
   "cell_type": "code",
   "execution_count": 121,
   "metadata": {
    "pycharm": {
     "is_executing": true
    }
   },
   "outputs": [
    {
     "data": {
      "text/plain": [
       "0.5843311358080979"
      ]
     },
     "execution_count": 121,
     "metadata": {},
     "output_type": "execute_result"
    }
   ],
   "source": [
    "# linea muerte local\n",
    "#import numpy as np\n",
    "np.sqrt((((df_val['Sales'].values - y_pred)/df_val['Sales'].values)**2).sum()/len(y_pred))"
   ]
  },
  {
   "cell_type": "code",
   "execution_count": 122,
   "metadata": {
    "pycharm": {
     "is_executing": true
    }
   },
   "outputs": [
    {
     "data": {
      "text/plain": [
       "array([7298.9946, 7499.1226, 7635.8877, 7378.1787, 7438.2886, 7362.9814,\n",
       "       7559.0825, 7516.7617, 7307.9897, 7382.7944], dtype=float32)"
      ]
     },
     "execution_count": 122,
     "metadata": {},
     "output_type": "execute_result"
    }
   ],
   "source": [
    "y_pred_test[:10]"
   ]
  },
  {
   "cell_type": "markdown",
   "metadata": {},
   "source": [
    "# Baseline"
   ]
  },
  {
   "cell_type": "code",
   "execution_count": 129,
   "metadata": {
    "pycharm": {
     "is_executing": true
    }
   },
   "outputs": [],
   "source": [
    "import pandas as pd\n",
    "sample_csv = pd.read_csv('dataset/rossmann/sample_submission.csv')"
   ]
  },
  {
   "cell_type": "code",
   "execution_count": 130,
   "metadata": {
    "pycharm": {
     "is_executing": true
    }
   },
   "outputs": [],
   "source": [
    "stores_mean = {}\n",
    "for store, g_df in df.groupby('Store'):\n",
    "    stores_mean[store] = g_df[g_df['Sales'] > 0]['Sales'].mean()"
   ]
  },
  {
   "cell_type": "code",
   "execution_count": 131,
   "metadata": {
    "pycharm": {
     "is_executing": true
    }
   },
   "outputs": [],
   "source": [
    "df_test['Sales'] = df_test['Store'].apply(stores_mean.get)\n",
    "df_test.loc[df_test['Open'] == 0, 'Sales'] = 0"
   ]
  },
  {
   "cell_type": "code",
   "execution_count": 132,
   "metadata": {
    "pycharm": {
     "is_executing": true
    }
   },
   "outputs": [
    {
     "data": {
      "text/html": [
       "<div>\n",
       "<style scoped>\n",
       "    .dataframe tbody tr th:only-of-type {\n",
       "        vertical-align: middle;\n",
       "    }\n",
       "\n",
       "    .dataframe tbody tr th {\n",
       "        vertical-align: top;\n",
       "    }\n",
       "\n",
       "    .dataframe thead th {\n",
       "        text-align: right;\n",
       "    }\n",
       "</style>\n",
       "<table border=\"1\" class=\"dataframe\">\n",
       "  <thead>\n",
       "    <tr style=\"text-align: right;\">\n",
       "      <th></th>\n",
       "      <th>Store</th>\n",
       "      <th>Sales</th>\n",
       "    </tr>\n",
       "  </thead>\n",
       "  <tbody>\n",
       "    <tr>\n",
       "      <th>0</th>\n",
       "      <td>0</td>\n",
       "      <td>4759.096031</td>\n",
       "    </tr>\n",
       "    <tr>\n",
       "      <th>1</th>\n",
       "      <td>2</td>\n",
       "      <td>6942.568678</td>\n",
       "    </tr>\n",
       "    <tr>\n",
       "      <th>2</th>\n",
       "      <td>6</td>\n",
       "      <td>8817.050891</td>\n",
       "    </tr>\n",
       "    <tr>\n",
       "      <th>3</th>\n",
       "      <td>7</td>\n",
       "      <td>5539.358418</td>\n",
       "    </tr>\n",
       "    <tr>\n",
       "      <th>4</th>\n",
       "      <td>8</td>\n",
       "      <td>6562.337612</td>\n",
       "    </tr>\n",
       "    <tr>\n",
       "      <th>5</th>\n",
       "      <td>9</td>\n",
       "      <td>5568.420918</td>\n",
       "    </tr>\n",
       "    <tr>\n",
       "      <th>6</th>\n",
       "      <td>10</td>\n",
       "      <td>8030.977041</td>\n",
       "    </tr>\n",
       "    <tr>\n",
       "      <th>7</th>\n",
       "      <td>11</td>\n",
       "      <td>7589.598214</td>\n",
       "    </tr>\n",
       "    <tr>\n",
       "      <th>8</th>\n",
       "      <td>12</td>\n",
       "      <td>5034.747182</td>\n",
       "    </tr>\n",
       "    <tr>\n",
       "      <th>9</th>\n",
       "      <td>13</td>\n",
       "      <td>5508.567394</td>\n",
       "    </tr>\n",
       "  </tbody>\n",
       "</table>\n",
       "</div>"
      ],
      "text/plain": [
       "   Store        Sales\n",
       "0      0  4759.096031\n",
       "1      2  6942.568678\n",
       "2      6  8817.050891\n",
       "3      7  5539.358418\n",
       "4      8  6562.337612\n",
       "5      9  5568.420918\n",
       "6     10  8030.977041\n",
       "7     11  7589.598214\n",
       "8     12  5034.747182\n",
       "9     13  5508.567394"
      ]
     },
     "execution_count": 132,
     "metadata": {},
     "output_type": "execute_result"
    }
   ],
   "source": [
    "df_test[['Store', 'Sales']].head(10)"
   ]
  },
  {
   "cell_type": "code",
   "execution_count": 133,
   "metadata": {
    "pycharm": {
     "is_executing": true
    }
   },
   "outputs": [
    {
     "data": {
      "text/html": [
       "<div>\n",
       "<style scoped>\n",
       "    .dataframe tbody tr th:only-of-type {\n",
       "        vertical-align: middle;\n",
       "    }\n",
       "\n",
       "    .dataframe tbody tr th {\n",
       "        vertical-align: top;\n",
       "    }\n",
       "\n",
       "    .dataframe thead th {\n",
       "        text-align: right;\n",
       "    }\n",
       "</style>\n",
       "<table border=\"1\" class=\"dataframe\">\n",
       "  <thead>\n",
       "    <tr style=\"text-align: right;\">\n",
       "      <th></th>\n",
       "      <th>Store</th>\n",
       "      <th>Sales</th>\n",
       "    </tr>\n",
       "  </thead>\n",
       "  <tbody>\n",
       "    <tr>\n",
       "      <th>543</th>\n",
       "      <td>702</td>\n",
       "      <td>0.0</td>\n",
       "    </tr>\n",
       "    <tr>\n",
       "      <th>676</th>\n",
       "      <td>878</td>\n",
       "      <td>0.0</td>\n",
       "    </tr>\n",
       "    <tr>\n",
       "      <th>840</th>\n",
       "      <td>1096</td>\n",
       "      <td>0.0</td>\n",
       "    </tr>\n",
       "    <tr>\n",
       "      <th>1399</th>\n",
       "      <td>702</td>\n",
       "      <td>0.0</td>\n",
       "    </tr>\n",
       "    <tr>\n",
       "      <th>1532</th>\n",
       "      <td>878</td>\n",
       "      <td>0.0</td>\n",
       "    </tr>\n",
       "  </tbody>\n",
       "</table>\n",
       "</div>"
      ],
      "text/plain": [
       "      Store  Sales\n",
       "543     702    0.0\n",
       "676     878    0.0\n",
       "840    1096    0.0\n",
       "1399    702    0.0\n",
       "1532    878    0.0"
      ]
     },
     "execution_count": 133,
     "metadata": {},
     "output_type": "execute_result"
    }
   ],
   "source": [
    "df_test[df_test['Open'] == 0][['Store', 'Sales']].head()"
   ]
  },
  {
   "cell_type": "code",
   "execution_count": 134,
   "metadata": {
    "pycharm": {
     "is_executing": true
    }
   },
   "outputs": [],
   "source": [
    "sample_csv['Sales'] = df_test['Sales']"
   ]
  },
  {
   "cell_type": "code",
   "execution_count": 135,
   "metadata": {
    "pycharm": {
     "is_executing": true
    }
   },
   "outputs": [],
   "source": [
    "sample_csv.to_csv(f'submision_baseline.csv', index=False)"
   ]
  },
  {
   "cell_type": "code",
   "execution_count": 136,
   "metadata": {
    "pycharm": {
     "is_executing": true
    }
   },
   "outputs": [
    {
     "data": {
      "text/html": [
       "<div>\n",
       "<style scoped>\n",
       "    .dataframe tbody tr th:only-of-type {\n",
       "        vertical-align: middle;\n",
       "    }\n",
       "\n",
       "    .dataframe tbody tr th {\n",
       "        vertical-align: top;\n",
       "    }\n",
       "\n",
       "    .dataframe thead th {\n",
       "        text-align: right;\n",
       "    }\n",
       "</style>\n",
       "<table border=\"1\" class=\"dataframe\">\n",
       "  <thead>\n",
       "    <tr style=\"text-align: right;\">\n",
       "      <th></th>\n",
       "      <th>Id</th>\n",
       "      <th>Sales</th>\n",
       "    </tr>\n",
       "  </thead>\n",
       "  <tbody>\n",
       "    <tr>\n",
       "      <th>0</th>\n",
       "      <td>1</td>\n",
       "      <td>4759.096031</td>\n",
       "    </tr>\n",
       "    <tr>\n",
       "      <th>1</th>\n",
       "      <td>2</td>\n",
       "      <td>6942.568678</td>\n",
       "    </tr>\n",
       "    <tr>\n",
       "      <th>2</th>\n",
       "      <td>3</td>\n",
       "      <td>8817.050891</td>\n",
       "    </tr>\n",
       "    <tr>\n",
       "      <th>3</th>\n",
       "      <td>4</td>\n",
       "      <td>5539.358418</td>\n",
       "    </tr>\n",
       "    <tr>\n",
       "      <th>4</th>\n",
       "      <td>5</td>\n",
       "      <td>6562.337612</td>\n",
       "    </tr>\n",
       "  </tbody>\n",
       "</table>\n",
       "</div>"
      ],
      "text/plain": [
       "   Id        Sales\n",
       "0   1  4759.096031\n",
       "1   2  6942.568678\n",
       "2   3  8817.050891\n",
       "3   4  5539.358418\n",
       "4   5  6562.337612"
      ]
     },
     "execution_count": 136,
     "metadata": {},
     "output_type": "execute_result"
    }
   ],
   "source": [
    "sample_csv.head()"
   ]
  },
  {
   "cell_type": "markdown",
   "metadata": {},
   "source": [
    "# Sumbit a la competición"
   ]
  },
  {
   "cell_type": "code",
   "execution_count": 128,
   "metadata": {
    "pycharm": {
     "is_executing": true
    }
   },
   "outputs": [],
   "source": [
    "\n",
    "sample_csv = pd.read_csv('dataset/rossmann/sample_submission.csv')\n",
    "sample_csv['Sales'] = y_pred_test\n",
    "sample_csv.head()\n",
    "\n",
    "sample_csv.to_csv(f'submision_{add_customers}-{log_output}-{output_activation}-{l2_lambda}-{first_hidden_units}-{epochs}-{batch_size}-{lr}.csv', index=False)\n"
   ]
  },
  {
   "cell_type": "markdown",
   "metadata": {},
   "source": [
    "# Analisis de embedings"
   ]
  },
  {
   "cell_type": "code",
   "execution_count": 125,
   "metadata": {
    "pycharm": {
     "is_executing": true
    }
   },
   "outputs": [],
   "source": [
    "def plot_embed(layer_name, cat_names):\n",
    "    Y = model.get_layer(layer_name).get_weights()[0]\n",
    "    print(Y.shape)\n",
    "    plt.figure(figsize=(8,8))\n",
    "    plt.scatter(-Y[:, 0], -Y[:, 1])\n",
    "    for i, txt in enumerate(cat_names):\n",
    "        plt.annotate(txt, (-Y[i, 0],-Y[i, 1]), xytext = (-5, 8), textcoords = 'offset points')"
   ]
  },
  {
   "cell_type": "code",
   "execution_count": 126,
   "metadata": {
    "pycharm": {
     "is_executing": true
    }
   },
   "outputs": [
    {
     "name": "stdout",
     "output_type": "stream",
     "text": [
      "(7, 2)\n"
     ]
    },
    {
     "data": {
      "image/png": "[encoded data removed]",
      "text/plain": [
       "<Figure size 576x576 with 1 Axes>"
      ]
     },
     "metadata": {
      "needs_background": "light"
     },
     "output_type": "display_data"
    }
   ],
   "source": [
    "model.load_weights('bestmodel.hdf5')\n",
    "plot_embed('DayOfWeek_Embed', ['Mon', 'Tue', 'Wed', 'Thu', 'Fri', 'Sat','Sun'])"
   ]
  },
  {
   "cell_type": "code",
   "execution_count": 127,
   "metadata": {
    "pycharm": {
     "is_executing": true
    }
   },
   "outputs": [
    {
     "ename": "ValueError",
     "evalue": "No such layer: Month_Embed.",
     "output_type": "error",
     "traceback": [
      "\u001b[0;31m---------------------------------------------------------------------------\u001b[0m",
      "\u001b[0;31mValueError\u001b[0m                                Traceback (most recent call last)",
      "\u001b[0;32m/tmp/ipykernel_1819/1806548021.py\u001b[0m in \u001b[0;36m<module>\u001b[0;34m\u001b[0m\n\u001b[0;32m----> 1\u001b[0;31m \u001b[0mplot_embed\u001b[0m\u001b[0;34m(\u001b[0m\u001b[0;34m'Month_Embed'\u001b[0m\u001b[0;34m,\u001b[0m \u001b[0mlist\u001b[0m\u001b[0;34m(\u001b[0m\u001b[0mrange\u001b[0m\u001b[0;34m(\u001b[0m\u001b[0;36m12\u001b[0m\u001b[0;34m)\u001b[0m\u001b[0;34m)\u001b[0m\u001b[0;34m)\u001b[0m\u001b[0;34m\u001b[0m\u001b[0;34m\u001b[0m\u001b[0m\n\u001b[0m",
      "\u001b[0;32m/tmp/ipykernel_1819/3731635270.py\u001b[0m in \u001b[0;36mplot_embed\u001b[0;34m(layer_name, cat_names)\u001b[0m\n\u001b[1;32m      1\u001b[0m \u001b[0;32mdef\u001b[0m \u001b[0mplot_embed\u001b[0m\u001b[0;34m(\u001b[0m\u001b[0mlayer_name\u001b[0m\u001b[0;34m,\u001b[0m \u001b[0mcat_names\u001b[0m\u001b[0;34m)\u001b[0m\u001b[0;34m:\u001b[0m\u001b[0;34m\u001b[0m\u001b[0;34m\u001b[0m\u001b[0m\n\u001b[0;32m----> 2\u001b[0;31m     \u001b[0mY\u001b[0m \u001b[0;34m=\u001b[0m \u001b[0mmodel\u001b[0m\u001b[0;34m.\u001b[0m\u001b[0mget_layer\u001b[0m\u001b[0;34m(\u001b[0m\u001b[0mlayer_name\u001b[0m\u001b[0;34m)\u001b[0m\u001b[0;34m.\u001b[0m\u001b[0mget_weights\u001b[0m\u001b[0;34m(\u001b[0m\u001b[0;34m)\u001b[0m\u001b[0;34m[\u001b[0m\u001b[0;36m0\u001b[0m\u001b[0;34m]\u001b[0m\u001b[0;34m\u001b[0m\u001b[0;34m\u001b[0m\u001b[0m\n\u001b[0m\u001b[1;32m      3\u001b[0m     \u001b[0mprint\u001b[0m\u001b[0;34m(\u001b[0m\u001b[0mY\u001b[0m\u001b[0;34m.\u001b[0m\u001b[0mshape\u001b[0m\u001b[0;34m)\u001b[0m\u001b[0;34m\u001b[0m\u001b[0;34m\u001b[0m\u001b[0m\n\u001b[1;32m      4\u001b[0m     \u001b[0mplt\u001b[0m\u001b[0;34m.\u001b[0m\u001b[0mfigure\u001b[0m\u001b[0;34m(\u001b[0m\u001b[0mfigsize\u001b[0m\u001b[0;34m=\u001b[0m\u001b[0;34m(\u001b[0m\u001b[0;36m8\u001b[0m\u001b[0;34m,\u001b[0m\u001b[0;36m8\u001b[0m\u001b[0;34m)\u001b[0m\u001b[0;34m)\u001b[0m\u001b[0;34m\u001b[0m\u001b[0;34m\u001b[0m\u001b[0m\n\u001b[1;32m      5\u001b[0m     \u001b[0mplt\u001b[0m\u001b[0;34m.\u001b[0m\u001b[0mscatter\u001b[0m\u001b[0;34m(\u001b[0m\u001b[0;34m-\u001b[0m\u001b[0mY\u001b[0m\u001b[0;34m[\u001b[0m\u001b[0;34m:\u001b[0m\u001b[0;34m,\u001b[0m \u001b[0;36m0\u001b[0m\u001b[0;34m]\u001b[0m\u001b[0;34m,\u001b[0m \u001b[0;34m-\u001b[0m\u001b[0mY\u001b[0m\u001b[0;34m[\u001b[0m\u001b[0;34m:\u001b[0m\u001b[0;34m,\u001b[0m \u001b[0;36m1\u001b[0m\u001b[0;34m]\u001b[0m\u001b[0;34m)\u001b[0m\u001b[0;34m\u001b[0m\u001b[0;34m\u001b[0m\u001b[0m\n",
      "\u001b[0;32m~/anaconda3/envs/mlp_machinelearning/lib/python3.9/site-packages/keras/engine/training.py\u001b[0m in \u001b[0;36mget_layer\u001b[0;34m(self, name, index)\u001b[0m\n\u001b[1;32m   2566\u001b[0m         \u001b[0;32mif\u001b[0m \u001b[0mlayer\u001b[0m\u001b[0;34m.\u001b[0m\u001b[0mname\u001b[0m \u001b[0;34m==\u001b[0m \u001b[0mname\u001b[0m\u001b[0;34m:\u001b[0m\u001b[0;34m\u001b[0m\u001b[0;34m\u001b[0m\u001b[0m\n\u001b[1;32m   2567\u001b[0m           \u001b[0;32mreturn\u001b[0m \u001b[0mlayer\u001b[0m\u001b[0;34m\u001b[0m\u001b[0;34m\u001b[0m\u001b[0m\n\u001b[0;32m-> 2568\u001b[0;31m       \u001b[0;32mraise\u001b[0m \u001b[0mValueError\u001b[0m\u001b[0;34m(\u001b[0m\u001b[0;34m'No such layer: '\u001b[0m \u001b[0;34m+\u001b[0m \u001b[0mname\u001b[0m \u001b[0;34m+\u001b[0m \u001b[0;34m'.'\u001b[0m\u001b[0;34m)\u001b[0m\u001b[0;34m\u001b[0m\u001b[0;34m\u001b[0m\u001b[0m\n\u001b[0m\u001b[1;32m   2569\u001b[0m     \u001b[0;32mraise\u001b[0m \u001b[0mValueError\u001b[0m\u001b[0;34m(\u001b[0m\u001b[0;34m'Provide either a layer name or layer index.'\u001b[0m\u001b[0;34m)\u001b[0m\u001b[0;34m\u001b[0m\u001b[0;34m\u001b[0m\u001b[0m\n\u001b[1;32m   2570\u001b[0m \u001b[0;34m\u001b[0m\u001b[0m\n",
      "\u001b[0;31mValueError\u001b[0m: No such layer: Month_Embed."
     ]
    }
   ],
   "source": [
    "plot_embed('Month_Embed', list(range(12)))"
   ]
  },
  {
   "cell_type": "code",
   "execution_count": 324,
   "metadata": {
    "pycharm": {
     "is_executing": true
    }
   },
   "outputs": [],
   "source": [
    "from sklearn.manifold import TSNE\n",
    "from sklearn.decomposition import PCA"
   ]
  },
  {
   "cell_type": "code",
   "execution_count": 325,
   "metadata": {
    "pycharm": {
     "is_executing": true
    }
   },
   "outputs": [
    {
     "data": {
      "text/plain": [
       "(7, 2)"
      ]
     },
     "execution_count": 325,
     "metadata": {},
     "output_type": "execute_result"
    }
   ],
   "source": [
    "day_of_week_embedding = model.get_layer('DayOfWeek_Embed').get_weights()[0]\n",
    "day_of_week_embedding.shape"
   ]
  },
  {
   "cell_type": "code",
   "execution_count": 326,
   "metadata": {
    "pycharm": {
     "is_executing": true
    }
   },
   "outputs": [
    {
     "data": {
      "image/png": "[encoded data removed]",
      "text/plain": [
       "<Figure size 576x576 with 1 Axes>"
      ]
     },
     "metadata": {
      "needs_background": "light"
     },
     "output_type": "display_data"
    }
   ],
   "source": [
    "tsne = TSNE(n_components=2, random_state=1, learning_rate=10, n_iter=10000)\n",
    "Y = tsne.fit_transform(day_of_week_embedding)\n",
    "names = ['Mon', 'Tue', 'Wed', 'Thu', 'Fri', 'Sat','Sun']\n",
    "plt.figure(figsize=(8,8))\n",
    "plt.scatter(-Y[:, 0], -Y[:, 1])\n",
    "for i, txt in enumerate(names):\n",
    "    plt.annotate(txt, (-Y[i, 0],-Y[i, 1]), xytext = (-5, 8), textcoords = 'offset points')"
   ]
  },
  {
   "cell_type": "code",
   "execution_count": 327,
   "metadata": {
    "pycharm": {
     "is_executing": true
    }
   },
   "outputs": [
    {
     "data": {
      "text/plain": [
       "['Store', 'DayOfWeek', 'Month', 'Promo2Weeks']"
      ]
     },
     "execution_count": 327,
     "metadata": {},
     "output_type": "execute_result"
    }
   ],
   "source": [
    "cat_vars"
   ]
  },
  {
   "cell_type": "markdown",
   "metadata": {},
   "source": [
    "## Store embeddings"
   ]
  },
  {
   "cell_type": "code",
   "execution_count": 328,
   "metadata": {
    "pycharm": {
     "is_executing": true
    }
   },
   "outputs": [],
   "source": [
    "submodel = Model(cat_var_inputs + cont_vars_inputs, merged)"
   ]
  },
  {
   "cell_type": "code",
   "execution_count": 329,
   "metadata": {
    "pycharm": {
     "is_executing": true
    }
   },
   "outputs": [
    {
     "name": "stdout",
     "output_type": "stream",
     "text": [
      "Model: \"model_8\"\n",
      "__________________________________________________________________________________________________\n",
      "Layer (type)                    Output Shape         Param #     Connected to                     \n",
      "==================================================================================================\n",
      "Store_input (InputLayer)        [(None, 1)]          0                                            \n",
      "__________________________________________________________________________________________________\n",
      "DayOfWeek_input (InputLayer)    [(None, 1)]          0                                            \n",
      "__________________________________________________________________________________________________\n",
      "Month_input (InputLayer)        [(None, 1)]          0                                            \n",
      "__________________________________________________________________________________________________\n",
      "Promo2Weeks_input (InputLayer)  [(None, 1)]          0                                            \n",
      "__________________________________________________________________________________________________\n",
      "Store_Embed (Embedding)         (None, 1, 50)        55750       Store_input[0][0]                \n",
      "__________________________________________________________________________________________________\n",
      "DayOfWeek_Embed (Embedding)     (None, 1, 2)         14          DayOfWeek_input[0][0]            \n",
      "__________________________________________________________________________________________________\n",
      "Month_Embed (Embedding)         (None, 1, 2)         24          Month_input[0][0]                \n",
      "__________________________________________________________________________________________________\n",
      "Promo2Weeks_Embed (Embedding)   (None, 1, 1)         26          Promo2Weeks_input[0][0]          \n",
      "__________________________________________________________________________________________________\n",
      "Store_flat (Flatten)            (None, 50)           0           Store_Embed[0][0]                \n",
      "__________________________________________________________________________________________________\n",
      "DayOfWeek_flat (Flatten)        (None, 2)            0           DayOfWeek_Embed[0][0]            \n",
      "__________________________________________________________________________________________________\n",
      "Month_flat (Flatten)            (None, 2)            0           Month_Embed[0][0]                \n",
      "__________________________________________________________________________________________________\n",
      "Promo2Weeks_flat (Flatten)      (None, 1)            0           Promo2Weeks_Embed[0][0]          \n",
      "__________________________________________________________________________________________________\n",
      "BeforeStateHoliday_bool_input ( [(None, 1)]          0                                            \n",
      "__________________________________________________________________________________________________\n",
      "Max_TemperatureC_input (InputLa [(None, 1)]          0                                            \n",
      "__________________________________________________________________________________________________\n",
      "All_Concatenate (Concatenate)   (None, 57)           0           Store_flat[0][0]                 \n",
      "                                                                 DayOfWeek_flat[0][0]             \n",
      "                                                                 Month_flat[0][0]                 \n",
      "                                                                 Promo2Weeks_flat[0][0]           \n",
      "                                                                 BeforeStateHoliday_bool_input[0][\n",
      "                                                                 Max_TemperatureC_input[0][0]     \n",
      "==================================================================================================\n",
      "Total params: 55,814\n",
      "Trainable params: 55,814\n",
      "Non-trainable params: 0\n",
      "__________________________________________________________________________________________________\n"
     ]
    }
   ],
   "source": [
    "submodel.summary()"
   ]
  },
  {
   "cell_type": "code",
   "execution_count": 330,
   "metadata": {
    "pycharm": {
     "is_executing": true
    }
   },
   "outputs": [
    {
     "name": "stdout",
     "output_type": "stream",
     "text": [
      "WARNING:tensorflow:Compiled the loaded model, but the compiled metrics have yet to be built. `model.compile_metrics` will be empty until you train or evaluate the model.\n"
     ]
    }
   ],
   "source": [
    "submodel.save('embeddings_model.hdf5')"
   ]
  },
  {
   "cell_type": "code",
   "execution_count": null,
   "metadata": {
    "pycharm": {
     "is_executing": true
    }
   },
   "outputs": [],
   "source": []
  }
 ],
 "metadata": {
  "kernelspec": {
   "display_name": "Python 3 (ipykernel)",
   "language": "python",
   "name": "python3"
  },
  "language_info": {
   "codemirror_mode": {
    "name": "ipython",
    "version": 3
   },
   "file_extension": ".py",
   "mimetype": "text/x-python",
   "name": "python",
   "nbconvert_exporter": "python",
   "pygments_lexer": "ipython3",
   "version": "3.9.6"
  }
 },
 "nbformat": 4,
 "nbformat_minor": 4
}

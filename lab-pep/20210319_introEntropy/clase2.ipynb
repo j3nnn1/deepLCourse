{
 "cells": [
  {
   "cell_type": "code",
   "execution_count": 2,
   "metadata": {
    "collapsed": true
   },
   "outputs": [
    {
     "data": {
      "text/plain": "array([3.84640691, 5.05954557, 5.03969015, ..., 5.0253608 , 2.41004168,\n       4.61410151])"
     },
     "execution_count": 2,
     "metadata": {},
     "output_type": "execute_result"
    },
    {
     "data": {
      "text/plain": "<Figure size 432x288 with 1 Axes>",
      "image/png": "[encoded data removed]"
     },
     "metadata": {
      "needs_background": "light"
     },
     "output_type": "display_data"
    }
   ],
   "source": [
    "# como puedo samplear una variable aleatoria.\n",
    "from matplotlib import pyplot as plt\n",
    "import numpy as np\n",
    "np.random.seed(42)\n",
    "# distribucion uniforme discreta\n",
    "uniform_sampling = np.random.randint(1,7, 10000)\n",
    "_ = plt.hist(uniform_sampling, bins=6)\n",
    "# density true /  => te da la cantidad de bins\n",
    "# hacer un histograma para entender cual es la distribucion\n",
    "# con replace=false saca la muestra de la distribucion.\n",
    "np.random.choice(['cat', 'dog', 'horse', 'cow'], size=1000, p = [0.25, 0.5, 0.125, 0.125])\n",
    "data = np.linspace(1, 10000, 10000)\n",
    "# numeros repetidos\n",
    "# la mayor parte de las veces se muestra con replazo\n",
    "#np.random.choice(data, replace=False, lsize=1000)\n",
    "# funciones discretas y continuas\n",
    "np.random.uniform(1,6, size=10_000)"
   ]
  },
  {
   "cell_type": "code",
   "execution_count": 4,
   "outputs": [
    {
     "name": "stdout",
     "output_type": "stream",
     "text": [
      "[ 1.   2.8  4.6  6.4  8.2 10. ]\n"
     ]
    }
   ],
   "source": [
    "import numpy as np\n",
    "start = 1\n",
    "stop = 10\n",
    "num = 6\n",
    "data = np.linspace(start, stop, num)\n",
    "# data is a vector\n",
    "# data has elements, and are evenly spaced samples (muestras espaciadas uniformemente)\n",
    "print(data)"
   ],
   "metadata": {
    "collapsed": false,
    "pycharm": {
     "name": "#%%\n"
    }
   }
  },
  {
   "cell_type": "code",
   "execution_count": 7,
   "outputs": [
    {
     "name": "stdout",
     "output_type": "stream",
     "text": [
      "1.799999999999999\n"
     ]
    }
   ],
   "source": [],
   "metadata": {
    "collapsed": false,
    "pycharm": {
     "name": "#%%\n"
    }
   }
  }
 ],
 "metadata": {
  "kernelspec": {
   "display_name": "Python 3",
   "language": "python",
   "name": "python3"
  },
  "language_info": {
   "codemirror_mode": {
    "name": "ipython",
    "version": 2
   },
   "file_extension": ".py",
   "mimetype": "text/x-python",
   "name": "python",
   "nbconvert_exporter": "python",
   "pygments_lexer": "ipython2",
   "version": "2.7.6"
  }
 },
 "nbformat": 4,
 "nbformat_minor": 0
}
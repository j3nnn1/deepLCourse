{
 "nbformat": 4,
 "nbformat_minor": 0,
 "metadata": {
  "colab": {
   "name": "ejemplos_VA.ipynb",
   "provenance": []
  },
  "kernelspec": {
   "name": "python3",
   "language": "python",
   "display_name": "Python 3"
  },
  "language_info": {
   "name": "python"
  }
 },
 "cells": [
  {
   "cell_type": "code",
   "metadata": {
    "id": "v2PQFUDFPni5"
   },
   "source": [
    "import numpy as np\n",
    "from matplotlib import pyplot as plt"
   ],
   "execution_count": 1,
   "outputs": []
  },
  {
   "cell_type": "code",
   "metadata": {
    "id": "Ns4BlN6zY7UM"
   },
   "source": [
    "gaussian_samplig_1 = np.random.normal(0, 1, 10000)\n",
    "gaussian_samplig_2 = np.random.normal(3, 4, 10000)"
   ],
   "execution_count": 2,
   "outputs": []
  },
  {
   "cell_type": "code",
   "metadata": {
    "id": "x2dvR98ZaFud"
   },
   "source": [
    "gaussian_samplig = list(gaussian_samplig_1) + list(gaussian_samplig_2)"
   ],
   "execution_count": 3,
   "outputs": []
  },
  {
   "cell_type": "code",
   "metadata": {
    "colab": {
     "base_uri": "https://localhost:8080/",
     "height": 265
    },
    "id": "4RIuxZ53Z-Aq",
    "outputId": "f6e40fdc-e403-4532-ed05-5d83f5836e14"
   },
   "source": [
    "_ = plt.hist(gaussian_samplig, bins=100)"
   ],
   "execution_count": 4,
   "outputs": [
    {
     "data": {
      "text/plain": "<Figure size 432x288 with 1 Axes>",
      "image/png": "[encoded data removed]"
     },
     "metadata": {
      "needs_background": "light"
     },
     "output_type": "display_data"
    }
   ]
  },
  {
   "cell_type": "code",
   "metadata": {
    "id": "RnhLshtTX12p"
   },
   "source": [
    "# Discreta\n",
    "uniform_samplig = np.random.randint(1, 7, 10000)"
   ],
   "execution_count": 5,
   "outputs": []
  },
  {
   "cell_type": "code",
   "metadata": {
    "colab": {
     "base_uri": "https://localhost:8080/"
    },
    "id": "XpNOszmkgfrf",
    "outputId": "7c951ca6-42c8-47a6-ef66-bd3c059f8f58"
   },
   "source": [
    "uniform_samplig[:10]"
   ],
   "execution_count": 6,
   "outputs": [
    {
     "data": {
      "text/plain": "array([4, 3, 4, 6, 3, 2, 5, 2, 2, 5])"
     },
     "execution_count": 6,
     "metadata": {},
     "output_type": "execute_result"
    }
   ]
  },
  {
   "cell_type": "code",
   "metadata": {
    "colab": {
     "base_uri": "https://localhost:8080/",
     "height": 265
    },
    "id": "Fie7yROBYO_3",
    "outputId": "8f749947-5bce-44ce-d639-21ce54cbf994"
   },
   "source": [
    "_ = plt.hist(uniform_samplig, bins=6)"
   ],
   "execution_count": 7,
   "outputs": [
    {
     "data": {
      "text/plain": "<Figure size 432x288 with 1 Axes>",
      "image/png": "[encoded data removed]"
     },
     "metadata": {
      "needs_background": "light"
     },
     "output_type": "display_data"
    }
   ]
  },
  {
   "cell_type": "code",
   "metadata": {
    "id": "tkVGfhHqgP6o"
   },
   "source": [
    "# Uniforme continua\n",
    "uniform_samplig_cont = np.random.uniform(1, 6, size=100_000)"
   ],
   "execution_count": 8,
   "outputs": []
  },
  {
   "cell_type": "code",
   "metadata": {
    "colab": {
     "base_uri": "https://localhost:8080/"
    },
    "id": "j4Xd7Pfagead",
    "outputId": "ce36e10a-d678-4d70-e538-c4922fb03000"
   },
   "source": [
    "uniform_samplig_cont[:10]"
   ],
   "execution_count": 9,
   "outputs": [
    {
     "data": {
      "text/plain": "array([3.40799954, 3.65919633, 3.84168236, 3.75403487, 4.86479075,\n       5.5235271 , 4.09963989, 5.45755384, 5.19303595, 5.1645077 ])"
     },
     "execution_count": 9,
     "metadata": {},
     "output_type": "execute_result"
    }
   ]
  },
  {
   "cell_type": "code",
   "metadata": {
    "colab": {
     "base_uri": "https://localhost:8080/",
     "height": 265
    },
    "id": "VptbXsP5gbo_",
    "outputId": "f7ae830d-15a1-42d9-81d3-be850974db7c"
   },
   "source": [
    "_ = plt.hist(uniform_samplig_cont, bins=100)"
   ],
   "execution_count": 10,
   "outputs": [
    {
     "data": {
      "text/plain": "<Figure size 432x288 with 1 Axes>",
      "image/png": "[encoded data removed]"
     },
     "metadata": {
      "needs_background": "light"
     },
     "output_type": "display_data"
    }
   ]
  },
  {
   "cell_type": "code",
   "metadata": {
    "id": "LYTADUSrgpGr"
   },
   "source": [],
   "execution_count": 10,
   "outputs": []
  },
  {
   "cell_type": "code",
   "metadata": {
    "colab": {
     "base_uri": "https://localhost:8080/",
     "height": 265
    },
    "id": "r1ER-OgFYVND",
    "outputId": "788b8bf9-fe98-4026-83db-bcaa0de1f39a"
   },
   "source": [
    "_ = plt.hist(uniform_samplig)"
   ],
   "execution_count": 11,
   "outputs": [
    {
     "data": {
      "text/plain": "<Figure size 432x288 with 1 Axes>",
      "image/png": "[encoded data removed]"
     },
     "metadata": {
      "needs_background": "light"
     },
     "output_type": "display_data"
    }
   ]
  },
  {
   "cell_type": "code",
   "metadata": {
    "id": "hrGFOGPwYYs9"
   },
   "source": [
    "va_2 = np.random.choice([1, 2, 3, 4], size=1000, p=[0.25, 0.5, 0.125, 0.125])"
   ],
   "execution_count": 12,
   "outputs": []
  },
  {
   "cell_type": "code",
   "metadata": {
    "colab": {
     "base_uri": "https://localhost:8080/",
     "height": 333
    },
    "id": "JLTHcpL9b2Ae",
    "outputId": "74ee4fb8-d267-4833-8122-dccda7c1a861"
   },
   "source": [
    " plt.hist(va_2, density=True, )"
   ],
   "execution_count": 13,
   "outputs": [
    {
     "data": {
      "text/plain": "(array([0.81333333, 0.        , 0.        , 1.65666667, 0.        ,\n        0.        , 0.40666667, 0.        , 0.        , 0.45666667]),\n array([1. , 1.3, 1.6, 1.9, 2.2, 2.5, 2.8, 3.1, 3.4, 3.7, 4. ]),\n <BarContainer object of 10 artists>)"
     },
     "execution_count": 13,
     "metadata": {},
     "output_type": "execute_result"
    },
    {
     "data": {
      "text/plain": "<Figure size 432x288 with 1 Axes>",
      "image/png": "[encoded data removed]"
     },
     "metadata": {
      "needs_background": "light"
     },
     "output_type": "display_data"
    }
   ]
  },
  {
   "cell_type": "code",
   "metadata": {
    "id": "ITe2dY22ddS2"
   },
   "source": [
    "data = np.linspace(1, 10_000, 10_000)"
   ],
   "execution_count": 14,
   "outputs": []
  },
  {
   "cell_type": "code",
   "metadata": {
    "colab": {
     "base_uri": "https://localhost:8080/"
    },
    "id": "FP4aiSwpdiLO",
    "outputId": "8ac3448a-4766-4961-d08d-0565d444c9cc"
   },
   "source": [
    "data"
   ],
   "execution_count": 15,
   "outputs": [
    {
     "data": {
      "text/plain": "array([1.000e+00, 2.000e+00, 3.000e+00, ..., 9.998e+03, 9.999e+03,\n       1.000e+04])"
     },
     "execution_count": 15,
     "metadata": {},
     "output_type": "execute_result"
    }
   ]
  },
  {
   "cell_type": "code",
   "metadata": {
    "colab": {
     "base_uri": "https://localhost:8080/"
    },
    "id": "PBzaAQmvYAbm",
    "outputId": "6b4bc254-9307-46ae-e8d0-7b6a1ddf347d"
   },
   "source": [
    "np.random.choice(data, replace=True, size=1000)"
   ],
   "execution_count": 16,
   "outputs": [
    {
     "data": {
      "text/plain": "array([3355., 6869., 4257., 8634., 7641.,  869., 8783., 9427., 1986.,\n       8430., 2212., 5370., 1122., 3039., 2607., 9125., 4377., 9780.,\n       3189., 7354., 5380., 1112., 4592., 6360., 6103., 6389., 1292.,\n       5477., 1118., 7406., 2451., 4014., 1404., 7874., 2865.,  193.,\n       6091., 6204., 5697., 6477., 9705., 9064., 7711., 9038., 1160.,\n       5515., 2938.,  120., 9756., 8484., 4401., 4165., 7686., 3922.,\n       6448., 1344., 4029., 2532.,  131., 5357., 6252., 1586., 8028.,\n       5822.,  873., 5444.,  360., 3347., 3761., 5865.,  176., 5388.,\n       7016., 5087., 8263., 9260., 3958., 7004., 9995., 2352., 2987.,\n       1927., 2380., 5329., 6772.,  564., 5153., 6456., 8836., 6160.,\n       5904., 2325., 9610., 3480., 4522., 4820., 8074., 3291., 6295.,\n       1644., 4680., 8458., 7615., 2612.,  596., 2201., 8476.,  658.,\n        745.,  267., 5133., 5265., 4415., 3604., 4117., 8063., 4534.,\n       1547., 7791., 5017., 3919., 5064.,  811., 6694., 2282., 1305.,\n       6714., 1512., 6832., 3905., 8363., 1207., 2830., 5995., 5722.,\n       7619.,  113., 9778.,  696., 7505., 5189., 6105., 6275., 8555.,\n       7622., 8051., 9221., 1871., 8665., 5632., 3059., 5071., 5397.,\n       7734., 2487., 3860., 5981., 9994., 3245., 5997., 1796., 9304.,\n       8727., 9874., 8205., 7851., 4028.,  891., 9811., 9017., 8728.,\n        398.,  670., 6528., 7940.,   32., 6925., 6649.,   43., 8278.,\n       8404., 4539., 9472., 8062., 4957., 4536., 3279., 5597., 1233.,\n       4224., 4748., 5527., 1655., 4083., 8357., 3667., 7900., 2407.,\n       1922., 2596., 8601., 7107., 3031., 7452., 5933., 9125., 4917.,\n       3288., 1697., 6529., 2296., 2734.,  199., 8728., 6150., 4608.,\n       8499., 3080., 9940.,  368.,  996., 8805.,  142.,  577.,  495.,\n       7172., 3585.,  555., 6553., 6790., 8137.,  380., 8639., 8196.,\n       6514., 4111., 6298., 5087., 6214., 7771., 8097., 5505., 9580.,\n       1536., 6195., 9937., 7111., 2377., 6736., 3597., 5493., 7241.,\n       9279., 1134., 5830., 4154.,  232., 2044., 2095., 5249., 5656.,\n        616., 5212., 1994., 6780., 5598., 9966., 7640., 8454., 5027.,\n       2802., 4126., 4896., 6311., 8288., 8452., 4236., 2104., 7297.,\n       4956., 5690., 8643., 2904., 7780., 2173., 4665., 7717., 5150.,\n       5557., 8239., 4106., 1722., 7639., 6463., 1996.,   57., 4725.,\n        662., 2672., 7111., 3433., 7929., 6040., 1395., 9019., 1077.,\n       8579., 1024.,  159., 7430., 4881., 8902.,  493., 9358., 1052.,\n       6518.,  107., 4108., 5558., 6489., 1345., 3748., 1773., 6303.,\n       1081., 7013., 3450., 6966., 1528., 8816., 2727., 6908., 4849.,\n       6990., 8464., 2090., 7067., 5866., 9619., 2985., 9207., 9502.,\n       6222., 1448., 3480.,   36., 5237., 1188., 5651., 9521., 6749.,\n       5989., 1076., 4237., 7384., 3799.,  409., 8904., 9776., 1407.,\n       5571., 4030., 1606., 4600., 4388., 9079., 5052., 3565., 7954.,\n       7759., 8859., 5760., 6752., 8276., 6710., 5420., 8365., 3249.,\n       8976., 6606., 7217.,  652., 2338., 7904., 2287., 4101., 7643.,\n        318., 9425., 3163., 7550., 8368., 3767., 6868., 1254., 2963.,\n       3555., 9470., 8877., 1691., 1231., 7392., 1057., 8896., 4920.,\n       3234., 8399., 5395.,  422., 9442., 6878., 6369., 4567., 1488.,\n       9564., 5594., 2702., 9675., 3521., 5108.,  120., 4630., 5596.,\n       5136., 6932., 2776., 9616., 2987., 9513., 9552., 5809., 5048.,\n       5185., 4671., 6447., 7845., 4735., 3508., 1299., 3712., 6183.,\n       7755.,   46., 7641., 5240., 7230., 8352., 9419., 8813.,  905.,\n       2561.,  566., 3179., 5580.,  511., 1076., 4853., 7572., 3694.,\n        345., 1602.,  402.,  732.,  481., 3603., 8220., 5446., 8902.,\n         81., 8908., 7905., 7064., 1932., 6160., 4222., 3580., 7255.,\n       5710., 2726., 1781., 2021., 8559., 8437., 3377.,  127., 7698.,\n       1287.,  410., 2805., 7325., 8297., 1853., 6373., 8355., 2600.,\n       3402., 8785., 2735., 3791., 9167.,  998., 9061., 5878., 9770.,\n       2900.,  394., 2989., 5688., 8155., 1530., 2869., 3181., 8028.,\n       9936., 8469., 9774., 9222., 9066., 7664., 3109., 8834., 6804.,\n       4108., 4928., 9243., 6642., 5332.,  451.,  539., 5233., 3367.,\n       7395., 9956., 9278., 3701., 6376., 8417., 7560., 9563., 2983.,\n       4304., 6331., 3874., 1980., 5482., 4593., 7331., 1492., 1667.,\n       5691., 9461., 4018., 9224., 7845., 6003., 3651., 2856., 5838.,\n       9004., 7412., 6357., 3197., 1598., 5612., 1516., 1446., 3296.,\n        147., 1307., 1947., 7131.,  504., 7801., 5763., 1991., 1470.,\n       1730., 2689., 3483., 9566., 6496., 3775., 5772.,  239., 4102.,\n       9260., 7864., 2131., 6166., 9389.,  401., 5889., 6688., 5740.,\n       7889., 7011., 6912., 8268., 5219., 4258., 1279., 2653., 5798.,\n       4086., 4793., 4364., 1615., 8684., 1827.,  505., 3781., 9339.,\n       1854., 6303., 5388., 1756.,  833., 6591., 6747., 9214., 6017.,\n       9346., 6832., 6104., 2133.,  896., 8589., 8936., 8328., 2418.,\n       1135., 7673.,  675., 3563., 2379., 2963., 2413., 2617., 3833.,\n       3712., 6840., 5370., 5551., 2638., 7119., 4858., 2054., 9310.,\n        243., 6599., 9701., 5377., 5037., 4757., 4134., 3466., 1434.,\n        322., 3903., 2173., 7280.,   96., 1152., 7401.,  534., 6537.,\n       9556., 1892., 1767., 6928., 8930., 6651., 4520., 3502., 6167.,\n       2302., 2352., 1778., 7745., 5622., 3436., 3049., 2445., 7650.,\n       1037., 1203., 6754.,  419.,  673., 8810., 3359., 9945., 9498.,\n        428., 7481., 1564., 8659., 1839.,  640., 8308., 3118., 3657.,\n       8628., 7339., 6336.,  189., 3681., 4180., 7979., 2102., 9099.,\n       3915.,  176., 2192., 1321., 2693., 6499., 9658., 2066., 8543.,\n       9353., 4701., 7450., 3484., 3984., 2169., 5344., 2955., 1697.,\n       8903., 5990., 3546., 6519., 2984., 7123., 7996., 5930., 1655.,\n       9899., 5785., 4487., 8702., 7579., 7765., 1545., 8013., 5008.,\n        212., 2679., 9121., 4626.,  466., 6461., 1440., 1847., 6753.,\n       8251., 7527., 2354., 5520., 5119., 4011., 9511., 6662., 9934.,\n       4759., 7893., 8234., 7001., 4569., 7343., 9656., 4086., 9872.,\n       2892.,  213., 5970., 8446., 4490., 8366., 8215., 2852., 4652.,\n       7805., 9464., 2329., 7021.,   46., 4608., 7124., 2295., 7691.,\n       9708., 2115., 4462.,  315., 1447., 7427., 6372., 9931., 7805.,\n       8785., 9457., 8192., 8116., 9759., 4838., 2312., 6661., 7838.,\n       1721., 9179., 2002., 9568.,  266., 3370.,  548., 4342., 6990.,\n        352.,  523., 2422., 7840., 2828., 8993.,  979., 2588., 9746.,\n       3840., 4851.,  714., 9311., 7127., 5321., 4722., 5461., 3769.,\n       1364.,  227., 6573., 9977., 3827., 7598., 8648., 8895., 4790.,\n       2065., 4938., 6975., 2683., 4954., 3283.,   47., 7486.,   25.,\n       7498., 9891.,  370., 2374., 4225., 7395., 9301., 4672., 5790.,\n       6038., 6179., 9011., 9484., 9814.,  251., 9551.,  653., 9520.,\n       6252.,  937., 7975., 7477., 8169., 4058.,  271., 5769., 4841.,\n       9645., 1905., 9860., 4811., 9571., 4830., 9711.,  926., 9951.,\n       4246., 3308., 8225., 8998., 6859.,   81., 2018.,   99., 1562.,\n       6774., 2725., 2181., 8012.,  623., 3625., 4768., 2000., 5761.,\n       3904., 1045., 2906., 6369., 5221., 4673., 8373., 2151., 1013.,\n        265., 9656., 3346., 1708., 5841., 2931.,  489., 1586., 2113.,\n       4470., 6175.,  181., 2821., 2945., 9813., 4277., 6766., 3603.,\n       1991., 6201., 6202., 9070., 2007., 9448., 3172., 2171., 8399.,\n       9536., 2007.,  909., 5936., 4643., 1274., 9679., 4988., 9659.,\n       3339., 7626., 6352.,   98.,  833.,  330.,  677., 4698., 3487.,\n       6247., 2033., 6824., 3567., 3769., 9322.,   40., 6231., 4844.,\n       9315., 2709., 5681., 6538., 2034., 3080., 4355., 7000., 1654.,\n        835., 1428., 9796., 9876., 8066., 1818., 4144., 2271., 6433.,\n       6543., 2789., 1912., 5431., 3753.,  577., 5151., 7439., 2118.,\n       4186.])"
     },
     "execution_count": 16,
     "metadata": {},
     "output_type": "execute_result"
    }
   ]
  },
  {
   "cell_type": "code",
   "metadata": {
    "id": "DbsTHfBfdst1"
   },
   "source": [
    "import numpy as np\n",
    "from matplotlib import pyplot as plt\n",
    "n = 1\n",
    "p = 0.2  # number of trials, probability of each trial\n",
    "s = np.random.binomial(n, p, 10)\n",
    "print(s)"
   ],
   "execution_count": 17,
   "outputs": [
    {
     "name": "stdout",
     "output_type": "stream",
     "text": [
      "[0 0 0 1 1 0 0 0 0 1]\n"
     ]
    }
   ]
  }
 ]
}
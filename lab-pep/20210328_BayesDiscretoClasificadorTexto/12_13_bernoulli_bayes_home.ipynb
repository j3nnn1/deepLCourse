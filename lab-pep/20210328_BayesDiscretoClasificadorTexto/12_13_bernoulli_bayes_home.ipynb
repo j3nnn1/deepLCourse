{
 "cells": [
  {
   "cell_type": "code",
   "execution_count": null,
   "metadata": {
    "collapsed": true
   },
   "outputs": [],
   "source": []
  },
  {
   "cell_type": "code",
   "execution_count": 1,
   "outputs": [],
   "source": [
    "# NRO 12\n",
    "# 12-GMM.ipynb\n",
    "%load_ext autoreload\n",
    "%autoreload 2"
   ],
   "metadata": {
    "collapsed": false,
    "pycharm": {
     "name": "#%%\n"
    }
   }
  },
  {
   "cell_type": "code",
   "execution_count": 20,
   "outputs": [],
   "source": [
    "from sklearn.mixture import GaussianMixture"
   ],
   "metadata": {
    "collapsed": false,
    "pycharm": {
     "name": "#%%\n"
    }
   }
  },
  {
   "cell_type": "code",
   "execution_count": 22,
   "outputs": [],
   "source": [
    "import pandas as pd\n",
    "df = pd.read_csv('alturas-pesos-1-train.csv')"
   ],
   "metadata": {
    "collapsed": false,
    "pycharm": {
     "name": "#%%\n"
    }
   }
  },
  {
   "cell_type": "code",
   "execution_count": 11,
   "outputs": [
    {
     "name": "stdout",
     "output_type": "stream",
     "text": [
      "      Altura  Peso\n",
      "0        162    61\n",
      "1        181    97\n",
      "2        172    73\n",
      "3        157    55\n",
      "4        151    56\n",
      "...      ...   ...\n",
      "7995     160    62\n",
      "7996     177    83\n",
      "7997     170    75\n",
      "7998     166    65\n",
      "7999     171    80\n",
      "\n",
      "[8000 rows x 2 columns]\n"
     ]
    }
   ],
   "source": [
    "print(df[['Altura', 'Peso']])"
   ],
   "metadata": {
    "collapsed": false,
    "pycharm": {
     "name": "#%%\n"
    }
   }
  },
  {
   "cell_type": "code",
   "execution_count": 12,
   "outputs": [],
   "source": [
    "pesos_alturas = df[['Peso', 'Altura']].values"
   ],
   "metadata": {
    "collapsed": false,
    "pycharm": {
     "name": "#%%\n"
    }
   }
  },
  {
   "cell_type": "code",
   "execution_count": 17,
   "outputs": [
    {
     "name": "stdout",
     "output_type": "stream",
     "text": [
      "[[ 61 162]\n",
      " [ 97 181]\n",
      " [ 73 172]\n",
      " ...\n",
      " [ 75 170]\n",
      " [ 65 166]\n",
      " [ 80 171]]\n"
     ]
    }
   ],
   "source": [
    "print(pesos_alturas)"
   ],
   "metadata": {
    "collapsed": false,
    "pycharm": {
     "name": "#%%\n"
    }
   }
  },
  {
   "cell_type": "code",
   "execution_count": 21,
   "outputs": [],
   "source": [
    "# One can think of mixture models as generalizing k-means clustering to incorporate information about the covariance structure of the data as well as the centers of the latent Gaussians\n",
    "\n",
    "# GaussianMixture have options to constrain the covariance of the difference classes estimated\n",
    "# spherical, diagonal, tied or full covariance #@TODO what is the diferents between this modes or types\n",
    "# interesante: https://towardsdatascience.com/gaussian-mixture-models-explained-6986aaf5a95\n",
    "# numero de componentes = cantidad de clusters\n",
    "# cuantos componentes? cuando es mejor a N cantidad de cluster? silhouette? @TODO preguntar alternativo?\n",
    "# en este ejemplo colocaron dos porque recordemos que al ver el histograma tenia dos gausianas.\n",
    "# una gaussiana para mujeres y otra para hombres.\n",
    "# tol = La tolerancia? https://scikit-learn.org/stable/modules/generated/sklearn.mixture.GaussianMixture.html\n",
    "# random_state= semilla para garantizar la reproducibilidad de los resultados.\n",
    "\n",
    "# model = estimated Gaussian mixture models\n",
    "model = GaussianMixture(n_components=2, covariance_type='full', init_params='kmeans', max_iter=10000, tol=0.0001)"
   ],
   "metadata": {
    "collapsed": false,
    "pycharm": {
     "name": "#%%\n"
    }
   }
  },
  {
   "cell_type": "code",
   "execution_count": 24,
   "outputs": [
    {
     "data": {
      "text/plain": "GaussianMixture(max_iter=10000, n_components=2, tol=0.0001)"
     },
     "execution_count": 24,
     "metadata": {},
     "output_type": "execute_result"
    }
   ],
   "source": [
    "model.fit(pesos_alturas)"
   ],
   "metadata": {
    "collapsed": false,
    "pycharm": {
     "name": "#%%\n"
    }
   }
  },
  {
   "cell_type": "code",
   "execution_count": 25,
   "outputs": [
    {
     "data": {
      "text/plain": "array([[ 60.65461028, 160.73175005],\n       [ 84.01749406, 174.54179157]])"
     },
     "execution_count": 25,
     "metadata": {},
     "output_type": "execute_result"
    }
   ],
   "source": [
    "model.means_"
   ],
   "metadata": {
    "collapsed": false,
    "pycharm": {
     "name": "#%%\n"
    }
   }
  },
  {
   "cell_type": "code",
   "execution_count": 30,
   "outputs": [
    {
     "data": {
      "text/plain": "array([[[75.22233469, 49.79701663],\n        [49.79701663, 46.86474106]],\n\n       [[79.83813643, 54.6210906 ],\n        [54.6210906 , 51.28423416]]])"
     },
     "execution_count": 30,
     "metadata": {},
     "output_type": "execute_result"
    }
   ],
   "source": [
    "model.covariances_"
   ],
   "metadata": {
    "collapsed": false,
    "pycharm": {
     "name": "#%%\n"
    }
   }
  },
  {
   "cell_type": "code",
   "execution_count": 29,
   "outputs": [],
   "source": [],
   "metadata": {
    "collapsed": false,
    "pycharm": {
     "name": "#%%\n"
    }
   }
  },
  {
   "cell_type": "raw",
   "source": [
    "medias_mujeres = [ 60.63481741 160.80765383]\n",
    "medias_hombres = [ 83.95577211 174.4177911 ]\n",
    "\n",
    "covar_mujeres =\n",
    "[[75.2716621  50.74735416]\n",
    " [50.74735416 47.72356412]]\n",
    "\n",
    "covar_hombre =\n",
    "[[80.78759602 56.2994124 ]\n",
    " [56.2994124  53.17456968]]"
   ],
   "metadata": {
    "collapsed": false
   }
  },
  {
   "cell_type": "code",
   "execution_count": null,
   "outputs": [],
   "source": [
    "# notebook\n",
    "# 13 test gauss.ipynb"
   ],
   "metadata": {
    "collapsed": false,
    "pycharm": {
     "name": "#%%\n"
    }
   }
  },
  {
   "cell_type": "code",
   "execution_count": 1,
   "outputs": [],
   "source": [
    "%matplotlib inline\n",
    "from ipywidgets import interactive, fixed, interact, widgets\n",
    "from matplotlib import pyplot as plt\n",
    "from IPython.display import display, Markdown\n",
    "from helper import plot_mv_gaussian\n",
    "import numpy as np"
   ],
   "metadata": {
    "collapsed": false,
    "pycharm": {
     "name": "#%%\n"
    }
   }
  },
  {
   "cell_type": "code",
   "execution_count": 2,
   "outputs": [
    {
     "data": {
      "text/plain": "<IPython.core.display.Markdown object>",
      "text/markdown": "$x^2$"
     },
     "metadata": {},
     "output_type": "display_data"
    }
   ],
   "source": [
    "display(Markdown('$x^2$'))"
   ],
   "metadata": {
    "collapsed": false,
    "pycharm": {
     "name": "#%%\n"
    }
   }
  },
  {
   "cell_type": "code",
   "execution_count": 3,
   "outputs": [],
   "source": [
    "def plot_gauss(sigma_x1=1, sigma_x2=1, corr_coef=0.0):\n",
    "    sigma_x1x2 = corr_coef*sigma_x1*sigma_x2\n",
    "    corr_mat = np.array([[sigma_x1,sigma_x1x2],[sigma_x1x2,sigma_x2]])\n",
    "    plot_mv_gaussian(np.array([0, 0]), corr_mat, initview=(35, -45),\n",
    "                     N=50, autoscale=([-2, 2], [-2, 2], [0, 0.15]))\n",
    "    print(corr_mat)\n",
    "    plt.show()\n",
    "    return"
   ],
   "metadata": {
    "collapsed": false,
    "pycharm": {
     "name": "#%%\n"
    }
   }
  },
  {
   "cell_type": "code",
   "execution_count": null,
   "outputs": [
    {
     "data": {
      "text/plain": "interactive(children=(FloatSlider(value=1.0, description='sigma_x1', max=4.0, min=0.5), FloatSlider(value=1.0,…",
      "application/vnd.jupyter.widget-view+json": {
       "version_major": 2,
       "version_minor": 0,
       "model_id": "477d7876d5234770a59cdbd4b4c1f549"
      }
     },
     "metadata": {},
     "output_type": "display_data"
    }
   ],
   "source": [
    "w=interactive(plot_gauss, sigma_x1=(0.5,4), sigma_x2=(0.5,4), corr_coef=(-0.9, 0.9))\n",
    "w"
   ],
   "metadata": {
    "collapsed": false,
    "pycharm": {
     "name": "#%%\n",
     "is_executing": true
    }
   }
  },
  {
   "cell_type": "code",
   "execution_count": 8,
   "outputs": [
    {
     "data": {
      "text/plain": "HBox(children=(FloatSlider(value=1.0, description='$\\\\sigma_{x_1}^2$', max=4.0, min=0.5), FloatSlider(value=1.…",
      "application/vnd.jupyter.widget-view+json": {
       "version_major": 2,
       "version_minor": 0,
       "model_id": "d8ec6242353443b1886c87c9c89370f2"
      }
     },
     "metadata": {},
     "output_type": "display_data"
    },
    {
     "data": {
      "text/plain": "Output()",
      "application/vnd.jupyter.widget-view+json": {
       "version_major": 2,
       "version_minor": 0,
       "model_id": "6b82aa9e7a3049a7aee0d8ab85113514"
      }
     },
     "metadata": {},
     "output_type": "display_data"
    }
   ],
   "source": [
    "\n",
    "a = widgets.FloatSlider(1.0, min=0.5, max=4, description='$\\sigma_{x_1}^2$')\n",
    "b = widgets.FloatSlider(1.0, min=0.5, max=4, description='$\\sigma_{x_2}^2$')\n",
    "c = widgets.FloatSlider(0, min=-0.9, max=0.9, description='$ro$')\n",
    "ui = widgets.HBox([a, b, c])\n",
    "out = widgets.interactive_output(plot_gauss, {'sigma_x1': a, 'sigma_x2': b, 'corr_coef': c})\n",
    "display(ui, out)"
   ],
   "metadata": {
    "collapsed": false,
    "pycharm": {
     "name": "#%%\n"
    }
   }
  },
  {
   "cell_type": "code",
   "execution_count": 2,
   "outputs": [
    {
     "name": "stdout",
     "output_type": "stream",
     "text": [
      "[1 1 1 1 1 0 1 0 0 1 1 1 0 1 1 1 1 0 0 1 0 1 0 1 1 1 1 1 1 0 1 1 1 1 1 1 1\n",
      " 0 1 0 0 0 1 1 1 1 1 1 1 1 0 0 1 1 0 1 1 1 0 1 1 0 1 0 1 0 1 1 1 0 1 1 0 1\n",
      " 1 0 1 1 1 1 1 0 1 0 1 1 0 1 1 1 1 1 1 1 1 1 0 1 1 1 1 0 1 1 1 0 1 0 1 1 1\n",
      " 0 1 1 1 1 1 1 1 1 1 1 0 0 1 0 1 1 1 1 1 1 0 1 0 1 1 0 0 1 0 0 0 1 1 1 0 0\n",
      " 1 1 1 0 0 1 0 1 0 1 0 1 1 1 0 1 1 0 0 1 1 1 0 0 1 0 1 1 1 1 1 1 0 1 1 0 1\n",
      " 0 0 0 1 1 0 1 1 1 1 1 1 1 0 1 1 1 1 1 1 0 1 0 1 1 0 0 1 1 1 1 1 1 1 0 1 1\n",
      " 1 0 1 1 1 1 0 0 1 0 1 1 0 0 1 1 1 1 1 1 1 1 1 1 1 1 1 1 1 1 1 1 1 1 1 1 1\n",
      " 1 0 0 0 1 1 0 1 1 0 1 1 0 0 1 1 1 0 1 1 1 1 1 1 1 1 1 1 0 0 1 1 1 1 1 1 1\n",
      " 1 1 1 1 1 0 1 1 1 1 1 1 1 1 0 1 1 1 1 1 1 1 0 0 1 1 0 0 1 0 0 1 1 0 1 0 1\n",
      " 1 1 0 1 1 0 1 1 1 0 1 0 1 0 1 1 0 1 0 1 1 1 0 1 0 1 1 0 1 1 1 1 1 1 1 1 1\n",
      " 1 0 1 1 1 0 1 1 1 1 1 1 1 0 0 0 1 1 1 0 0 1 1 1 1 1 1 1 1 0 0 1 1 1 1 1 1\n",
      " 1 1 1 0 0 0 1 0 1 1 0 1 1 1 1 0 0 1 1 0 0 1 1 1 1 1 1 0 1 1 1 1 1 1 1 1 1\n",
      " 1 1 1 1 1 0 1 1 1 1 1 0 1 1 0 0 1 0 1 0 1 0 1 0 1 1 1 0 0 1 1 0 0 0 1 0 1\n",
      " 0 0 0 1 1 0 1 1 1 1 1 1 0 0 1 1 0 0 1]\n"
     ]
    }
   ],
   "source": [
    "import numpy as np\n",
    "datos = np.random.choice([0,1], 500, p=[0.3, 0.7])\n",
    "print(datos)"
   ],
   "metadata": {
    "collapsed": false,
    "pycharm": {
     "name": "#%%\n"
    }
   }
  },
  {
   "cell_type": "code",
   "execution_count": 3,
   "outputs": [
    {
     "data": {
      "text/plain": "0.714"
     },
     "execution_count": 3,
     "metadata": {},
     "output_type": "execute_result"
    }
   ],
   "source": [
    "np.mean(datos)"
   ],
   "metadata": {
    "collapsed": false,
    "pycharm": {
     "name": "#%%\n"
    }
   }
  }
 ],
 "metadata": {
  "kernelspec": {
   "display_name": "Python 3",
   "language": "python",
   "name": "python3"
  },
  "language_info": {
   "codemirror_mode": {
    "name": "ipython",
    "version": 2
   },
   "file_extension": ".py",
   "mimetype": "text/x-python",
   "name": "python",
   "nbconvert_exporter": "python",
   "pygments_lexer": "ipython2",
   "version": "2.7.6"
  }
 },
 "nbformat": 4,
 "nbformat_minor": 0
}
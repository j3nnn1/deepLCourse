{
 "cells": [
  {
   "cell_type": "code",
   "execution_count": 1,
   "id": "indie-departure",
   "metadata": {},
   "outputs": [],
   "source": [
    "import pandas as pd"
   ]
  },
  {
   "cell_type": "code",
   "execution_count": 2,
   "id": "martial-albuquerque",
   "metadata": {},
   "outputs": [],
   "source": [
    "df = pd.read_csv('data/pesoaltura.csv')"
   ]
  },
  {
   "cell_type": "code",
   "execution_count": 3,
   "id": "smoking-zimbabwe",
   "metadata": {},
   "outputs": [],
   "source": [
    "df.to_csv('salida.csv')"
   ]
  },
  {
   "cell_type": "code",
   "execution_count": 4,
   "id": "agricultural-tours",
   "metadata": {},
   "outputs": [
    {
     "data": {
      "text/plain": "0    34\n1    32\nName: peso, dtype: int64"
     },
     "execution_count": 4,
     "metadata": {},
     "output_type": "execute_result"
    }
   ],
   "source": [
    "df['peso']"
   ]
  },
  {
   "cell_type": "code",
   "execution_count": 5,
   "id": "celtic-mining",
   "metadata": {},
   "outputs": [],
   "source": [
    "df['bmi'] = df['peso']/ (df['altura']/100)**2"
   ]
  },
  {
   "cell_type": "code",
   "execution_count": 6,
   "id": "steady-estimate",
   "metadata": {},
   "outputs": [
    {
     "data": {
      "text/plain": "   peso  altura  edad        bmi\n0    34     123    32  22.473395",
      "text/html": "<div>\n<style scoped>\n    .dataframe tbody tr th:only-of-type {\n        vertical-align: middle;\n    }\n\n    .dataframe tbody tr th {\n        vertical-align: top;\n    }\n\n    .dataframe thead th {\n        text-align: right;\n    }\n</style>\n<table border=\"1\" class=\"dataframe\">\n  <thead>\n    <tr style=\"text-align: right;\">\n      <th></th>\n      <th>peso</th>\n      <th>altura</th>\n      <th>edad</th>\n      <th>bmi</th>\n    </tr>\n  </thead>\n  <tbody>\n    <tr>\n      <th>0</th>\n      <td>34</td>\n      <td>123</td>\n      <td>32</td>\n      <td>22.473395</td>\n    </tr>\n  </tbody>\n</table>\n</div>"
     },
     "execution_count": 6,
     "metadata": {},
     "output_type": "execute_result"
    }
   ],
   "source": [
    "df[df['bmi']>20]"
   ]
  },
  {
   "cell_type": "code",
   "execution_count": 7,
   "id": "built-treatment",
   "metadata": {},
   "outputs": [
    {
     "data": {
      "text/plain": "<AxesSubplot:>"
     },
     "execution_count": 7,
     "metadata": {},
     "output_type": "execute_result"
    },
    {
     "data": {
      "text/plain": "<Figure size 432x288 with 1 Axes>",
      "image/png": "[encoded data removed]"
     },
     "metadata": {
      "needs_background": "light"
     },
     "output_type": "display_data"
    }
   ],
   "source": [
    "\n",
    "df['peso'].hist(bins=50)"
   ]
  },
  {
   "cell_type": "code",
   "execution_count": 8,
   "id": "preliminary-niger",
   "metadata": {},
   "outputs": [],
   "source": [
    "from sklearn.linear_model import LinearRegression"
   ]
  },
  {
   "cell_type": "code",
   "execution_count": 9,
   "id": "taken-pizza",
   "metadata": {},
   "outputs": [],
   "source": [
    "from sklearn.linear_model import LinearRegression"
   ]
  },
  {
   "cell_type": "code",
   "execution_count": 10,
   "id": "photographic-somewhere",
   "metadata": {},
   "outputs": [],
   "source": [
    "import pandas as pd"
   ]
  },
  {
   "cell_type": "code",
   "execution_count": 11,
   "id": "genetic-membership",
   "metadata": {},
   "outputs": [
    {
     "ename": "SyntaxError",
     "evalue": "invalid syntax (<ipython-input-11-daca27548dd1>, line 1)",
     "output_type": "error",
     "traceback": [
      "\u001B[0;36m  File \u001B[0;32m\"<ipython-input-11-daca27548dd1>\"\u001B[0;36m, line \u001B[0;32m1\u001B[0m\n\u001B[0;31m    from matplotlib import\u001B[0m\n\u001B[0m                          ^\u001B[0m\n\u001B[0;31mSyntaxError\u001B[0m\u001B[0;31m:\u001B[0m invalid syntax\n"
     ]
    }
   ],
   "source": [
    "from matplotlib import"
   ]
  }
 ],
 "metadata": {
  "kernelspec": {
   "display_name": "Python 3",
   "language": "python",
   "name": "python3"
  },
  "language_info": {
   "codemirror_mode": {
    "name": "ipython",
    "version": 3
   },
   "file_extension": ".py",
   "mimetype": "text/x-python",
   "name": "python",
   "nbconvert_exporter": "python",
   "pygments_lexer": "ipython3",
   "version": "3.9.2"
  }
 },
 "nbformat": 4,
 "nbformat_minor": 5
}
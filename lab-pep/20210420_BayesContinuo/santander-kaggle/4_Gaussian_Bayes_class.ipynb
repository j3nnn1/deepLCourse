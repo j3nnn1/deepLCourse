{
 "cells": [
  {
   "cell_type": "code",
   "execution_count": 1,
   "metadata": {},
   "outputs": [],
   "source": [
    "from sklearn.metrics import roc_auc_score\n",
    "from scipy.stats import multivariate_normal\n",
    "import numpy as np"
   ]
  },
  {
   "cell_type": "code",
   "execution_count": 2,
   "metadata": {},
   "outputs": [],
   "source": [
    "import pandas as pd\n",
    "\n",
    "df_train = pd.read_csv('train_splitted.csv')\n",
    "df_valid = pd.read_csv('valid_splitted.csv')\n",
    "X_train = df_train.drop(columns=['ID_code', 'target'])\n",
    "X_valid = df_valid.drop(columns=['ID_code', 'target'])\n",
    "\n",
    "y_train = df_train['target']\n",
    "y_valid = df_valid['target']"
   ]
  },
  {
   "cell_type": "code",
   "execution_count": 16,
   "metadata": {},
   "outputs": [],
   "source": [
    "class BinaryGaussianBayes:\n",
    "    def __init__(self, P_1=0.5, P_0=0.5):\n",
    "        self.means_vect_1 = None\n",
    "        self.means_vect_0 = None\n",
    "        self.covar_mat_1 = None\n",
    "        self.covar_mat_0 = None\n",
    "        self.P_1 = P_1\n",
    "        self.P_0 = P_0\n",
    "        \n",
    "    def fit(self, X_train, y_train):   \n",
    "        X_train_1 = # Resolver\n",
    "        X_train_0 = # Resolver\n",
    "        self.P_1_ = # Resolver\n",
    "        self.P_0_ = # Resolver\n",
    "        self.means_vect_1_ = # Resolver\n",
    "        self.means_vect_0_ =# Resolver\n",
    "        self.covar_mat_1_ = # Resolver\n",
    "        self.covar_mat_0_ = # Resolver\n",
    "    \n",
    "    def predict(self, X):\n",
    "        odds = # Resolver\n",
    "        log_odds = # Resolver\n",
    "        probs = # Resolver\n",
    "        return odds, np.log(odds), probs\n",
    "    \n",
    "    def score(self, X, y):\n",
    "        _ ,_, probs = self.predict(X)\n",
    "        acc = # Resolver\n",
    "        return acc\n",
    "    \n",
    "    def auc_score(self, X, y):\n",
    "        odds ,_, _ = self.predict(X)\n",
    "        auc = # Resolver\n",
    "        return auc"
   ]
  },
  {
   "cell_type": "code",
   "execution_count": 8,
   "metadata": {},
   "outputs": [],
   "source": [
    "clf = BinaryGaussianBayes()"
   ]
  },
  {
   "cell_type": "code",
   "execution_count": 9,
   "metadata": {},
   "outputs": [],
   "source": [
    "clf.fit(X_train, y_train)"
   ]
  },
  {
   "cell_type": "code",
   "execution_count": 10,
   "metadata": {},
   "outputs": [],
   "source": [
    "odds, _, _ = clf.predict(X_train)"
   ]
  },
  {
   "cell_type": "code",
   "execution_count": 11,
   "metadata": {},
   "outputs": [
    {
     "data": {
      "text/plain": [
       "0.93574375"
      ]
     },
     "execution_count": 11,
     "metadata": {},
     "output_type": "execute_result"
    }
   ],
   "source": [
    "clf.score(X_train, y_train)"
   ]
  },
  {
   "cell_type": "code",
   "execution_count": 12,
   "metadata": {},
   "outputs": [
    {
     "data": {
      "text/plain": [
       "0.9291593614500827"
      ]
     },
     "execution_count": 12,
     "metadata": {},
     "output_type": "execute_result"
    }
   ],
   "source": [
    "clf.auc_score(X_train, y_train)"
   ]
  },
  {
   "cell_type": "code",
   "execution_count": 13,
   "metadata": {},
   "outputs": [
    {
     "data": {
      "text/plain": [
       "((40000, 200), (40000,))"
      ]
     },
     "execution_count": 13,
     "metadata": {},
     "output_type": "execute_result"
    }
   ],
   "source": [
    "X_valid.shape, y_valid.shape"
   ]
  },
  {
   "cell_type": "code",
   "execution_count": 14,
   "metadata": {},
   "outputs": [
    {
     "data": {
      "text/plain": [
       "0.8444229069608169"
      ]
     },
     "execution_count": 14,
     "metadata": {},
     "output_type": "execute_result"
    }
   ],
   "source": [
    "clf.auc_score(X_valid, y_valid)"
   ]
  }
 ],
 "metadata": {
  "kernelspec": {
   "display_name": "Python 3",
   "language": "python",
   "name": "python3"
  },
  "language_info": {
   "codemirror_mode": {
    "name": "ipython",
    "version": 3
   },
   "file_extension": ".py",
   "mimetype": "text/x-python",
   "name": "python",
   "nbconvert_exporter": "python",
   "pygments_lexer": "ipython3",
   "version": "3.6.8"
  }
 },
 "nbformat": 4,
 "nbformat_minor": 2
}

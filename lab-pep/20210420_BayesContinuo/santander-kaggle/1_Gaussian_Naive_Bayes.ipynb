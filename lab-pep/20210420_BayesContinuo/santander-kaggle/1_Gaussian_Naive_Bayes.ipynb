{
 "cells": [
  {
   "cell_type": "code",
   "execution_count": 1,
   "metadata": {},
   "outputs": [],
   "source": [
    "from sklearn.naive_bayes import GaussianNB\n",
    "import pandas as pd\n",
    "from sklearn.metrics import roc_auc_score, roc_curve\n",
    "import time\n",
    "from matplotlib import pyplot as plt\n",
    "import numpy as np\n",
    "import pickle"
   ]
  },
  {
   "cell_type": "code",
   "execution_count": 2,
   "metadata": {},
   "outputs": [],
   "source": [
    "df_train = pd.read_csv('train_splitted.csv')\n",
    "df_valid = pd.read_csv('valid_splitted.csv')\n",
    "\n",
    "X_train = df_train.drop(columns=['ID_code', 'target'])\n",
    "X_valid = df_valid.drop(columns=['ID_code', 'target'])\n",
    "\n",
    "y_train = df_train['target']\n",
    "y_valid = df_valid['target']"
   ]
  },
  {
   "cell_type": "code",
   "execution_count": 3,
   "metadata": {},
   "outputs": [
    {
     "name": "stdout",
     "output_type": "stream",
     "text": [
      "16046 143954\n"
     ]
    }
   ],
   "source": [
    "N_1_t = len(X_train[y_train==1]) #/len(X_valid)\n",
    "N_0_t = len(X_train[y_train==0]) #/len(X_valid)\n",
    "print(N_1_t, N_0_t)"
   ]
  },
  {
   "cell_type": "code",
   "execution_count": 4,
   "metadata": {},
   "outputs": [
    {
     "name": "stdout",
     "output_type": "stream",
     "text": [
      "0.1002875 0.8997125\n"
     ]
    }
   ],
   "source": [
    "P_1 = N_1_t/len(X_train)\n",
    "P_0 = N_0_t/len(X_train)\n",
    "\n",
    "print(P_1, P_0)"
   ]
  },
  {
   "cell_type": "markdown",
   "metadata": {},
   "source": [
    "## Que particularidad tiene el dataset?"
   ]
  },
  {
   "cell_type": "markdown",
   "metadata": {},
   "source": [
    "Sería un buen modelo uno que predice con un Accuracy de 0.9?"
   ]
  },
  {
   "cell_type": "markdown",
   "metadata": {},
   "source": [
    "# Bayes rule"
   ]
  },
  {
   "cell_type": "markdown",
   "metadata": {},
   "source": [
    "Target = 1  \n",
    "$\\large p(t=1|V_0, V_1, ..., V_{199}) = \\frac{p(V_0, V_1, ..., V_{199}|t=1)P(t=1)}{p(V_0,V_1, ..., V_{199})} \\quad$\n",
    "\n",
    "Target = 0  \n",
    "$\\large p(t=0|V_0, V_1, ..., V_{199}) = \\frac{p(V_0, V_1, ..., V_{199}|t=0)P(t=0)}{p(V_0,V_1, ..., V_{199})} \\quad$"
   ]
  },
  {
   "cell_type": "markdown",
   "metadata": {},
   "source": [
    "# Naive Bayes"
   ]
  },
  {
   "cell_type": "markdown",
   "metadata": {},
   "source": [
    "$\\large \\large p(t=1|V_0, V_1, ..., V_{199}) = \\frac{p(V_0|t=1) p(V_1|t=1) ... p(V_{199}|t=1) P(t=1)}{p(V_0,...,V_{199})} \\quad$ Independence of Conditionals\n",
    "\n",
    "$\\large \\large p(t=0|V_0, V_1, ..., V_{199}) = \\frac{p(V_0|t=0) p(V_1|t=0) ... p(V_{199}|t=0) P(t=0)}{p(V_0,...,V_{199})} \\quad$ Independence of Conditionals"
   ]
  },
  {
   "cell_type": "markdown",
   "metadata": {},
   "source": [
    "# Create a train model"
   ]
  },
  {
   "cell_type": "markdown",
   "metadata": {},
   "source": [
    "https://scikit-learn.org/stable/modules/generated/sklearn.naive_bayes.GaussianNB.html#sklearn.naive_bayes.GaussianNB"
   ]
  },
  {
   "cell_type": "code",
   "execution_count": 5,
   "metadata": {},
   "outputs": [
    {
     "name": "stdout",
     "output_type": "stream",
     "text": [
      "CPU times: user 1.93 s, sys: 222 ms, total: 2.15 s\n",
      "Wall time: 425 ms\n"
     ]
    },
    {
     "data": {
      "text/plain": [
       "GaussianNB(priors=None, var_smoothing=1e-09)"
      ]
     },
     "execution_count": 5,
     "metadata": {},
     "output_type": "execute_result"
    }
   ],
   "source": [
    "clf = GaussianNB()\n",
    "%time clf.fit(X_train.values, y_train.values)"
   ]
  },
  {
   "cell_type": "code",
   "execution_count": 6,
   "metadata": {},
   "outputs": [
    {
     "data": {
      "text/plain": [
       "array([0, 1])"
      ]
     },
     "execution_count": 6,
     "metadata": {},
     "output_type": "execute_result"
    }
   ],
   "source": [
    "clf.classes_"
   ]
  },
  {
   "cell_type": "code",
   "execution_count": 77,
   "metadata": {},
   "outputs": [
    {
     "data": {
      "text/plain": [
       "array([0.89951, 0.10049])"
      ]
     },
     "execution_count": 77,
     "metadata": {},
     "output_type": "execute_result"
    }
   ],
   "source": [
    "clf.class_prior_"
   ]
  },
  {
   "cell_type": "markdown",
   "metadata": {},
   "source": [
    "Que son sigma y theta y por que tienen esas dimensiones?"
   ]
  },
  {
   "cell_type": "code",
   "execution_count": 81,
   "metadata": {},
   "outputs": [
    {
     "data": {
      "text/plain": [
       "((2, 200), (2, 200))"
      ]
     },
     "execution_count": 81,
     "metadata": {},
     "output_type": "execute_result"
    }
   ],
   "source": [
    "clf.sigma_.shape, clf.theta_.shape"
   ]
  },
  {
   "cell_type": "markdown",
   "metadata": {},
   "source": [
    "# Evaluate Train dataset"
   ]
  },
  {
   "cell_type": "code",
   "execution_count": 8,
   "metadata": {},
   "outputs": [
    {
     "name": "stdout",
     "output_type": "stream",
     "text": [
      "Accuracy: 0.92193125\n",
      "AUC_ROC: 0.8893228519335807\n",
      "AUC_ROC (CLASSES): (No es correcto) 0.6757845397526141\n"
     ]
    }
   ],
   "source": [
    "print('Accuracy:', clf.score(X_train, y_train))\n",
    "predicted_proba_tr = clf.predict_proba(X_train)\n",
    "predicted_class_tr = clf.predict(X_train)\n",
    "print('AUC_ROC:', roc_auc_score(y_train, predicted_proba_tr[:,1]))\n",
    "print('AUC_ROC (CLASSES): (No es correcto)', roc_auc_score(y_train, predicted_class_tr))"
   ]
  },
  {
   "cell_type": "markdown",
   "metadata": {},
   "source": [
    "https://towardsdatascience.com/understanding-auc-roc-curve-68b2303cc9c5"
   ]
  },
  {
   "cell_type": "markdown",
   "metadata": {},
   "source": [
    "$ TPR = \\frac{TP}{TP+FN}$\n",
    "\n",
    "$ FPR = \\frac{FP}{TP+FN}$"
   ]
  },
  {
   "cell_type": "code",
   "execution_count": 9,
   "metadata": {},
   "outputs": [
    {
     "data": {
      "image/png": "[encoded data removed]",
      "text/plain": [
       "<Figure size 432x288 with 1 Axes>"
      ]
     },
     "metadata": {},
     "output_type": "display_data"
    }
   ],
   "source": [
    "fpr, tpr, thres = roc_curve(y_train, predicted_proba_tr[:,1])\n",
    "plt.plot(fpr, tpr)\n",
    "plt.show()"
   ]
  },
  {
   "cell_type": "code",
   "execution_count": 10,
   "metadata": {},
   "outputs": [],
   "source": [
    "# Descomentar y graficar\n",
    "# fpr, tpr, thres = roc_curve(y_train, predicted_class_tr)\n",
    "# len(thres)\n",
    "# plt.plot(fpr, tpr)\n",
    "# plt.show()"
   ]
  },
  {
   "cell_type": "code",
   "execution_count": 11,
   "metadata": {},
   "outputs": [],
   "source": [
    "pickle.dump(clf, open('naive_bayes_train_only.pk', 'wb'))"
   ]
  },
  {
   "cell_type": "markdown",
   "metadata": {},
   "source": [
    "# Validation dataset"
   ]
  },
  {
   "cell_type": "code",
   "execution_count": 12,
   "metadata": {},
   "outputs": [
    {
     "name": "stdout",
     "output_type": "stream",
     "text": [
      "Accuracy: 0.921025\n",
      "AUC_ROC: 0.8921595960535734\n",
      "AUC_ROC (CLASSES): (No es correcto) 0.6728189896099785\n"
     ]
    }
   ],
   "source": [
    "print('Accuracy:', clf.score(X_valid, y_valid))\n",
    "predicted_proba_val = clf.predict_proba(X_valid)\n",
    "predicted_class_val = clf.predict(X_valid)\n",
    "print('AUC_ROC:', roc_auc_score(y_valid, predicted_proba_val[:,1]))\n",
    "print('AUC_ROC (CLASSES): (No es correcto)', roc_auc_score(y_valid, predicted_class_val))"
   ]
  },
  {
   "cell_type": "code",
   "execution_count": 13,
   "metadata": {},
   "outputs": [],
   "source": [
    "fpr, tpr, thres = roc_curve(y_valid, predicted_proba_val[:,1])"
   ]
  },
  {
   "cell_type": "code",
   "execution_count": 14,
   "metadata": {},
   "outputs": [
    {
     "name": "stdout",
     "output_type": "stream",
     "text": [
      "[1.99928535e+00 9.99285350e-01 9.68381076e-01 ... 6.92799419e-04\n",
      " 6.92674617e-04 6.28074097e-05]\n"
     ]
    }
   ],
   "source": [
    "print(thres)"
   ]
  },
  {
   "cell_type": "markdown",
   "metadata": {},
   "source": [
    "FPr: Numero de 0s clasificados mal sobre el total de 0s (Dije que era positivo cuando en realidad era negativo)\n",
    "\n",
    "TPr: Numero de 1s clasificados bien sobre el total de 1s (Dije que era positivo cuando era positivo)"
   ]
  },
  {
   "cell_type": "code",
   "execution_count": 15,
   "metadata": {},
   "outputs": [
    {
     "data": {
      "image/png": "[encoded data removed]",
      "text/plain": [
       "<Figure size 432x288 with 1 Axes>"
      ]
     },
     "metadata": {},
     "output_type": "display_data"
    }
   ],
   "source": [
    "plt.plot(fpr, tpr)\n",
    "\n",
    "for i, th in enumerate(thres[1:]):\n",
    "    if i%500==0:\n",
    "        plt.scatter(fpr[i], tpr[i], marker='x', c='r')\n",
    "        plt.text(fpr[i], tpr[i], np.round(th,2))\n",
    "plt.xlabel('FPr')\n",
    "plt.ylabel('TPr')\n",
    "plt.show()"
   ]
  },
  {
   "cell_type": "markdown",
   "metadata": {},
   "source": [
    "Pongo umbral en 0; siempre estimo un 1, es decir que voy a tener 100% TP"
   ]
  },
  {
   "cell_type": "markdown",
   "metadata": {},
   "source": [
    "Ejemplo:\n",
    "- pongo umbral en 0.5\n",
    "- Tengo muy pocos FP y tengo en el orden de 0.4 TP.\n",
    "- Como esta muy desbalanceado y hay muchos mas negativos, el accuracy da 'alto' para este umbral"
   ]
  },
  {
   "cell_type": "code",
   "execution_count": 16,
   "metadata": {},
   "outputs": [
    {
     "name": "stdout",
     "output_type": "stream",
     "text": [
      "0.36204343534057254 0.01591187270501836\n"
     ]
    }
   ],
   "source": [
    "idx_50 = np.where((thres > 0.4999) & (thres<0.5001))[0][0]\n",
    "print(tpr[idx_50], fpr[idx_50])"
   ]
  },
  {
   "cell_type": "code",
   "execution_count": 17,
   "metadata": {},
   "outputs": [
    {
     "name": "stdout",
     "output_type": "stream",
     "text": [
      "4052 35948\n"
     ]
    }
   ],
   "source": [
    "# Cantidad de Positivos\n",
    "N_1 = len(X_valid[y_valid==1])\n",
    "# Cantidad de Negativos\n",
    "N_0 = len(X_valid[y_valid==0])\n",
    "print(N_1, N_0)"
   ]
  },
  {
   "cell_type": "code",
   "execution_count": 18,
   "metadata": {},
   "outputs": [],
   "source": [
    "FP = fpr[idx_50]*N_0\n",
    "TP = tpr[idx_50]*N_1"
   ]
  },
  {
   "cell_type": "code",
   "execution_count": 19,
   "metadata": {},
   "outputs": [
    {
     "name": "stdout",
     "output_type": "stream",
     "text": [
      "36843.0\n"
     ]
    }
   ],
   "source": [
    "Correct_predicts = N_0-FP + TP\n",
    "print(Correct_predicts)"
   ]
  },
  {
   "cell_type": "code",
   "execution_count": 20,
   "metadata": {},
   "outputs": [
    {
     "data": {
      "text/plain": [
       "0.921075"
      ]
     },
     "execution_count": 20,
     "metadata": {},
     "output_type": "execute_result"
    }
   ],
   "source": [
    "Correct_predicts/len(X_valid)"
   ]
  },
  {
   "cell_type": "code",
   "execution_count": 21,
   "metadata": {},
   "outputs": [
    {
     "data": {
      "image/png": "[encoded data removed]",
      "text/plain": [
       "<Figure size 432x288 with 1 Axes>"
      ]
     },
     "metadata": {},
     "output_type": "display_data"
    }
   ],
   "source": [
    "log_odds = np.log(predicted_proba_val[:,1]/(1-predicted_proba_val[:,1]))\n",
    "_ = plt.hist(log_odds, 50)"
   ]
  },
  {
   "cell_type": "markdown",
   "metadata": {},
   "source": [
    "# Cantidad de parámetros del modelo"
   ]
  },
  {
   "cell_type": "code",
   "execution_count": 22,
   "metadata": {},
   "outputs": [
    {
     "name": "stdout",
     "output_type": "stream",
     "text": [
      "(2, 200) (2, 200)\n",
      "(400, 400)\n"
     ]
    },
    {
     "data": {
      "text/plain": [
       "800"
      ]
     },
     "execution_count": 22,
     "metadata": {},
     "output_type": "execute_result"
    }
   ],
   "source": [
    "print(clf.sigma_.shape, clf.theta_.shape)\n",
    "params = np.prod(clf.sigma_.shape), np.prod(clf.theta_.shape)\n",
    "print(params)\n",
    "sum(params)"
   ]
  },
  {
   "cell_type": "markdown",
   "metadata": {},
   "source": [
    "# Busqueda de hiperparamtros"
   ]
  },
  {
   "cell_type": "code",
   "execution_count": 23,
   "metadata": {},
   "outputs": [],
   "source": [
    "variances = np.logspace(-11, -9, 20)"
   ]
  },
  {
   "cell_type": "code",
   "execution_count": 24,
   "metadata": {},
   "outputs": [
    {
     "name": "stdout",
     "output_type": "stream",
     "text": [
      "0.8921608523928003\n",
      "0.8921608798537671\n",
      "0.8921609141799756\n",
      "0.8921609828323921\n",
      "0.892160989697634\n",
      "0.8921610377543256\n",
      "0.8921610034281173\n",
      "0.8921608455275586\n",
      "0.8921608729885253\n",
      "0.8921610446195672\n",
      "0.8921610034281172\n",
      "0.892161030889084\n",
      "0.8921609965628755\n",
      "0.8921611270024674\n",
      "0.8921610583500507\n",
      "0.8921609828323922\n",
      "0.8921608592580419\n",
      "0.8921606395703084\n",
      "0.8921603237691913\n",
      "0.8921595960535734\n"
     ]
    }
   ],
   "source": [
    "auc_rocs=[]\n",
    "for v in variances:\n",
    "    clf = GaussianNB(var_smoothing=v)\n",
    "    clf.fit(X_train.values, y_train.values)\n",
    "    predicted_proba = clf.predict_proba(X_valid)\n",
    "    sc = roc_auc_score(y_valid, predicted_proba[:,1])\n",
    "    auc_rocs.append(sc)\n",
    "    print(sc)"
   ]
  },
  {
   "cell_type": "code",
   "execution_count": 25,
   "metadata": {},
   "outputs": [
    {
     "data": {
      "text/plain": [
       "[<matplotlib.lines.Line2D at 0x7ff3db8cd2b0>]"
      ]
     },
     "execution_count": 25,
     "metadata": {},
     "output_type": "execute_result"
    },
    {
     "data": {
      "image/png": "[encoded data removed]",
      "text/plain": [
       "<Figure size 432x288 with 1 Axes>"
      ]
     },
     "metadata": {},
     "output_type": "display_data"
    }
   ],
   "source": [
    "plt.plot(variances, auc_rocs)"
   ]
  },
  {
   "cell_type": "markdown",
   "metadata": {},
   "source": [
    "# Modelo entrenado con toda la data"
   ]
  },
  {
   "cell_type": "code",
   "execution_count": 65,
   "metadata": {},
   "outputs": [],
   "source": [
    "df = pd.read_csv('train.csv')"
   ]
  },
  {
   "cell_type": "code",
   "execution_count": 66,
   "metadata": {},
   "outputs": [],
   "source": [
    "X_train = df.drop(columns=['ID_code', 'target'])\n",
    "y_train = df['target']"
   ]
  },
  {
   "cell_type": "code",
   "execution_count": 67,
   "metadata": {},
   "outputs": [
    {
     "data": {
      "text/plain": [
       "(200000, 200)"
      ]
     },
     "execution_count": 67,
     "metadata": {},
     "output_type": "execute_result"
    }
   ],
   "source": [
    "X_train.shape"
   ]
  },
  {
   "cell_type": "code",
   "execution_count": 68,
   "metadata": {},
   "outputs": [
    {
     "name": "stdout",
     "output_type": "stream",
     "text": [
      "CPU times: user 2.12 s, sys: 244 ms, total: 2.36 s\n",
      "Wall time: 491 ms\n"
     ]
    },
    {
     "data": {
      "text/plain": [
       "GaussianNB(priors=None, var_smoothing=1e-09)"
      ]
     },
     "execution_count": 68,
     "metadata": {},
     "output_type": "execute_result"
    }
   ],
   "source": [
    "clf = GaussianNB()\n",
    "%time clf.fit(X_train.values, y_train.values)"
   ]
  },
  {
   "cell_type": "code",
   "execution_count": 69,
   "metadata": {},
   "outputs": [],
   "source": [
    "pickle.dump(clf, open('naive_bayes_all_data.pk', 'wb'))"
   ]
  },
  {
   "cell_type": "code",
   "execution_count": 70,
   "metadata": {},
   "outputs": [],
   "source": [
    "X_test = pd.read_csv('test.csv').set_index('ID_code')"
   ]
  },
  {
   "cell_type": "code",
   "execution_count": 71,
   "metadata": {},
   "outputs": [],
   "source": [
    "predicted_proba_test = clf.predict_proba(X_test)"
   ]
  },
  {
   "cell_type": "code",
   "execution_count": 72,
   "metadata": {},
   "outputs": [
    {
     "data": {
      "image/png": "[encoded data removed]",
      "text/plain": [
       "<Figure size 432x288 with 1 Axes>"
      ]
     },
     "metadata": {},
     "output_type": "display_data"
    }
   ],
   "source": [
    "predicted_test = predicted_proba_test[:,1]\n",
    "log_odds = np.log(predicted_test/(1-predicted_test))\n",
    "_ = plt.hist(log_odds, 50)"
   ]
  },
  {
   "cell_type": "code",
   "execution_count": 74,
   "metadata": {},
   "outputs": [],
   "source": [
    "X_test['target'] = predicted_test"
   ]
  },
  {
   "cell_type": "code",
   "execution_count": 76,
   "metadata": {},
   "outputs": [],
   "source": [
    "filename = 'submission_naive_bayes_{}.csv'.format(int(time.time()))\n",
    "message = 'naive bayes third submission'\n",
    "X_test[['target']].to_csv(filename)"
   ]
  },
  {
   "cell_type": "code",
   "execution_count": 33,
   "metadata": {},
   "outputs": [
    {
     "name": "stdout",
     "output_type": "stream",
     "text": [
      "100%|███████████████████████████████████████| 6.07M/6.07M [00:22<00:00, 278kB/s]\n",
      "Successfully submitted to Santander Customer Transaction Prediction"
     ]
    }
   ],
   "source": [
    "# ! kaggle competitions submit -c santander-customer-transaction-prediction -f {filename} -m '{message}'"
   ]
  },
  {
   "cell_type": "code",
   "execution_count": null,
   "metadata": {},
   "outputs": [],
   "source": []
  }
 ],
 "metadata": {
  "kernelspec": {
   "display_name": "Python 3",
   "language": "python",
   "name": "python3"
  },
  "language_info": {
   "codemirror_mode": {
    "name": "ipython",
    "version": 3
   },
   "file_extension": ".py",
   "mimetype": "text/x-python",
   "name": "python",
   "nbconvert_exporter": "python",
   "pygments_lexer": "ipython3",
   "version": "3.6.8"
  }
 },
 "nbformat": 4,
 "nbformat_minor": 2
}

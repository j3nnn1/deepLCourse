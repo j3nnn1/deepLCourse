{
  "nbformat": 4,
  "nbformat_minor": 0,
  "metadata": {
    "colab": {
      "name": "Laboratorio .ipynb",
      "version": "0.3.2",
      "provenance": []
    },
    "kernelspec": {
      "name": "python3",
      "display_name": "Python 3"
    }
  },
  "cells": [
    {
      "metadata": {
        "id": "5MYaQwP0dLGf",
        "colab_type": "text"
      },
      "cell_type": "markdown",
      "source": [
        "# Naive Bayes Discreto\n",
        "\n",
        "Haremos un clasificador de artículos utilizando un modelo de Naive Bayes discreto. Trabajaremos con el dataset de Twenty News Group. Antes de empezar carguemos el dataset:"
      ]
    },
    {
      "metadata": {
        "id": "cnSlIWEac1mm",
        "colab_type": "code",
        "colab": {}
      },
      "cell_type": "code",
      "source": [
        "#Loading the data set - training data.\n",
        "from sklearn.datasets import fetch_20newsgroups\n",
        "twenty_train = fetch_20newsgroups(subset='train', shuffle=False)"
      ],
      "execution_count": 0,
      "outputs": []
    },
    {
      "metadata": {
        "id": "9m-XZO1Gc2v_",
        "colab_type": "code",
        "colab": {}
      },
      "cell_type": "code",
      "source": [
        "twenty_train.keys()"
      ],
      "execution_count": 0,
      "outputs": []
    },
    {
      "metadata": {
        "id": "OvtYC0qndcGJ",
        "colab_type": "code",
        "colab": {}
      },
      "cell_type": "code",
      "source": [
        "len(twenty_train.data) #Cantidad de artículos periodísticos"
      ],
      "execution_count": 0,
      "outputs": []
    },
    {
      "metadata": {
        "id": "R2MddId4d7EF",
        "colab_type": "code",
        "colab": {}
      },
      "cell_type": "code",
      "source": [
        "set(twenty_train[\"target\"]) #Clasificaciones de los artículos"
      ],
      "execution_count": 0,
      "outputs": []
    },
    {
      "metadata": {
        "id": "fJZkpO1SeAcq",
        "colab_type": "code",
        "colab": {}
      },
      "cell_type": "code",
      "source": [
        "twenty_train[\"target_names\"] #Referencia de los números de target"
      ],
      "execution_count": 0,
      "outputs": []
    },
    {
      "metadata": {
        "id": "X0byXL5-eFcx",
        "colab_type": "code",
        "colab": {}
      },
      "cell_type": "code",
      "source": [
        "twenty_train.data[0] # Primer artículo"
      ],
      "execution_count": 0,
      "outputs": []
    },
    {
      "metadata": {
        "id": "alhF9Z41eQhA",
        "colab_type": "text"
      },
      "cell_type": "markdown",
      "source": [
        "Vamos a aplicar el siguiente procesamiento utilizando los conceptos vistos en clase:\n",
        "\n",
        "* Tokenization (nltk)\n",
        "* Lemmatization (nltk)\n",
        "* Stop Words (nltk)\n",
        "* Stemming (nltk)\n",
        "* Filtrado de palabras\n",
        "* Obtención del vocabulario (countvectorizer)\n",
        "* Transformación de los artículos en vectores\n",
        "* Armado del modelo de Naive Bayes Multinomial\n",
        "* Evaluación con el Train Set\n",
        "* Evaluación con el Test Set"
      ]
    },
    {
      "metadata": {
        "id": "vVNxGZHMeJsH",
        "colab_type": "code",
        "colab": {}
      },
      "cell_type": "code",
      "source": [
        "import nltk\n",
        "from nltk.tokenize import word_tokenize\n",
        "from nltk.stem import PorterStemmer, WordNetLemmatizer\n",
        "from nltk.corpus import stopwords\n",
        "nltk.download('wordnet')\n",
        "nltk.download('punkt')\n",
        "nltk.download('stopwords')\n",
        "lemmatizer = WordNetLemmatizer()\n",
        "stemmer = PorterStemmer()"
      ],
      "execution_count": 0,
      "outputs": []
    },
    {
      "metadata": {
        "id": "RtB9WY00ewxM",
        "colab_type": "code",
        "colab": {}
      },
      "cell_type": "code",
      "source": [
        "#Procesando todos los artículos:\n",
        "articulos_procesados=list()\n",
        "for idx in range(len(twenty_train.data)):\n",
        "    if idx%1000==0:\n",
        "        print(f'se procesaron {idx} artículos')\n",
        "    art=twenty_train.data[idx]\n",
        "    tok=word_tokenize(art)\n",
        "    lem=[lemmatizer.lemmatize(x,pos='v') for x in tok]\n",
        "    stop = [x for x in lem if x not in stopwords.words('english')]\n",
        "    stem=[stemmer.stem(x) for x in stop]\n",
        "    alpha=[x for x in stem if x.isalpha()]\n",
        "    articulos_procesados.append(\" \".join(alpha))"
      ],
      "execution_count": 0,
      "outputs": []
    },
    {
      "metadata": {
        "id": "PKFI92vSkpv3",
        "colab_type": "code",
        "colab": {}
      },
      "cell_type": "code",
      "source": [
        "# Extracting features from articles\n",
        "from sklearn.feature_extraction.text import CountVectorizer\n",
        "count_vect = CountVectorizer(max_df=0.8,min_df=20) #chequear que max_df y min_df sean los que se piden\n",
        "count_vect.fit(articulos_procesados) #Aprende el vocabulario y le asigna un código a cada palabra"
      ],
      "execution_count": 0,
      "outputs": []
    },
    {
      "metadata": {
        "id": "bNuKEHS8nJgz",
        "colab_type": "text"
      },
      "cell_type": "markdown",
      "source": [
        "En la siguiente celda de código transforme los artículos procesados al vector de cuentas de palabras, es decir, transforme los artículos procesados utilizando el count vectorizer."
      ]
    },
    {
      "metadata": {
        "id": "n0aDvu7_niWR",
        "colab_type": "code",
        "colab": {}
      },
      "cell_type": "code",
      "source": [
        "X_train_data="
      ],
      "execution_count": 0,
      "outputs": []
    },
    {
      "metadata": {
        "id": "xvp0yqMvn5u8",
        "colab_type": "text"
      },
      "cell_type": "markdown",
      "source": [
        "Utilice la función MultinomialNB de sklear para implementar un clasificador Naive Bayes discreto. Utilice smoothing laplaciano con alpha=3."
      ]
    },
    {
      "metadata": {
        "id": "SKbjTWPPlYU3",
        "colab_type": "code",
        "colab": {}
      },
      "cell_type": "code",
      "source": [
        "from sklearn.naive_bayes import MultinomialNB\n",
        "clf = #SOLUCIÓN AQUÍ\n",
        "clf.fit(#SOLUCION AQUI)"
      ],
      "execution_count": 0,
      "outputs": []
    },
    {
      "metadata": {
        "id": "QtG52ZJdpMOV",
        "colab_type": "text"
      },
      "cell_type": "markdown",
      "source": [
        "## Evaluación con el train set\n",
        "Evalúe el accuracy del modelo entrenado utilizando el train set."
      ]
    },
    {
      "metadata": {
        "id": "aXk0xVJrnxk-",
        "colab_type": "code",
        "colab": {}
      },
      "cell_type": "code",
      "source": [
        "clf.score(#SOLUCION AQUI)"
      ],
      "execution_count": 0,
      "outputs": []
    },
    {
      "metadata": {
        "id": "gYCjQykXq0of",
        "colab_type": "text"
      },
      "cell_type": "markdown",
      "source": [
        "# Evaluación con el test set\n",
        "Procese y convierta los artículos del test-set. Evalúe el accuracy del modelo con los parámetros obtenidos anteriormente utilizando el test-set."
      ]
    },
    {
      "metadata": {
        "id": "x_T_6JWGoedN",
        "colab_type": "code",
        "colab": {}
      },
      "cell_type": "code",
      "source": [
        "twenty_test = fetch_20newsgroups(subset='test', shuffle=False)"
      ],
      "execution_count": 0,
      "outputs": []
    },
    {
      "metadata": {
        "id": "BoX-jgDdpJlf",
        "colab_type": "code",
        "colab": {}
      },
      "cell_type": "code",
      "source": [
        "#Procesando todos los artículos:\n",
        "articulos_procesados_test=list()\n",
        "for idx in range(len(twenty_test.data)):\n",
        "    ### SOLUCIÓN AQUÍ"
      ],
      "execution_count": 0,
      "outputs": []
    },
    {
      "metadata": {
        "id": "WDJlssjrrlA7",
        "colab_type": "code",
        "colab": {}
      },
      "cell_type": "code",
      "source": [
        "#Transforme los artículos de test procesados\n",
        "X_test_data="
      ],
      "execution_count": 0,
      "outputs": []
    },
    {
      "metadata": {
        "id": "abq_GeMFpw8c",
        "colab_type": "code",
        "colab": {}
      },
      "cell_type": "code",
      "source": [
        "#Evalúe el score del modelo entrenado para el train set para los artículos de test\n",
        "clf.score(#SOLUCION AQUI)"
      ],
      "execution_count": 0,
      "outputs": []
    }
  ]
}
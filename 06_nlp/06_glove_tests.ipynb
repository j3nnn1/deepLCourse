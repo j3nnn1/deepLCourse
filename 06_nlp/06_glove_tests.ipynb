{
 "cells": [
  {
   "cell_type": "markdown",
   "metadata": {
    "colab_type": "text",
    "id": "view-in-github"
   },
   "source": [
    "<a href=\"https://colab.research.google.com/github/deeplearning-itba/NLP-Embeddings/blob/master/06_glove_tests.ipynb\" target=\"_parent\"><img src=\"https://colab.research.google.com/assets/colab-badge.svg\" alt=\"Open In Colab\"/></a>"
   ]
  },
  {
   "cell_type": "code",
   "execution_count": 243,
   "metadata": {
    "colab": {
     "base_uri": "https://localhost:8080/",
     "height": 122
    },
    "colab_type": "code",
    "id": "v-mvGMujSz8W",
    "outputId": "2f7d65d2-887e-458b-8a96-85814bf35383"
   },
   "outputs": [],
   "source": [
    "# from google.colab import drive\n",
    "# drive.mount('/content/drive')"
   ]
  },
  {
   "cell_type": "markdown",
   "metadata": {
    "colab_type": "text",
    "id": "O-pmzBsoTA92"
   },
   "source": [
    "Agregar este archivo a la carpeta de google drive clickeando en el link y clickeando el '+' arriba a la derecha\n",
    "\n",
    "https://drive.google.com/open?id=1jJ20oNZIysi-V-iORAE0eEZq4LhuWxUW"
   ]
  },
  {
   "cell_type": "code",
   "execution_count": 244,
   "metadata": {
    "colab": {},
    "colab_type": "code",
    "id": "kfTcbRdGVRj4"
   },
   "outputs": [],
   "source": [
    "import codecs\n",
    "import numpy as np"
   ]
  },
  {
   "cell_type": "code",
   "execution_count": 245,
   "metadata": {
    "colab": {},
    "colab_type": "code",
    "id": "JUUN3Z3BRO5_"
   },
   "outputs": [
    {
     "name": "stdout",
     "output_type": "stream",
     "text": [
      "done!\n"
     ]
    }
   ],
   "source": [
    "# ! wget http://nlp.stanford.edu/data/glove.6B.zip\n",
    "print('done!')"
   ]
  },
  {
   "cell_type": "code",
   "execution_count": 246,
   "metadata": {
    "colab": {},
    "colab_type": "code",
    "id": "2aoTi2n7RQtS"
   },
   "outputs": [
    {
     "name": "stdout",
     "output_type": "stream",
     "text": [
      "done!\n"
     ]
    }
   ],
   "source": [
    "# ! unzip glove.6B.zip\n",
    "print('done!')"
   ]
  },
  {
   "cell_type": "code",
   "execution_count": 247,
   "metadata": {
    "colab": {},
    "colab_type": "code",
    "id": "Z8AzLFXZUTCw"
   },
   "outputs": [
    {
     "name": "stdout",
     "output_type": "stream",
     "text": [
      "done!\n"
     ]
    }
   ],
   "source": [
    "# EMBEDDING_DIR = \"/content/drive/My Drive/\"\n",
    "EMBEDDING_DIR = \"./\"\n",
    "print('done!')"
   ]
  },
  {
   "cell_type": "code",
   "execution_count": 248,
   "metadata": {
    "colab": {},
    "colab_type": "code",
    "id": "AsO8d8w6TxBh"
   },
   "outputs": [],
   "source": [
    "def load_embeddings(file, embed_dim=100):\n",
    "  #load embeddings\n",
    "\n",
    "  print('loading word embeddings...')\n",
    "  embeddings_index = {}\n",
    "  f = codecs.open(EMBEDDING_DIR+'glove.6B.100d.txt', encoding='utf-8')\n",
    "  for line in f:\n",
    "      values = line.rstrip().rsplit(' ')\n",
    "      word = values[0]\n",
    "      coefs = np.asarray(values[1:], dtype='float32')\n",
    "      embeddings_index[word] = coefs\n",
    "  f.close()\n",
    "  print('found %s word vectors' % len(embeddings_index))\n",
    "  return embeddings_index"
   ]
  },
  {
   "cell_type": "code",
   "execution_count": 249,
   "metadata": {
    "colab": {
     "base_uri": "https://localhost:8080/",
     "height": 51
    },
    "colab_type": "code",
    "id": "iG3clQ-EUPV5",
    "outputId": "0b22a678-bdcb-4a29-bac9-f11cb60726cb"
   },
   "outputs": [
    {
     "name": "stdout",
     "output_type": "stream",
     "text": [
      "loading word embeddings...\n",
      "found 400000 word vectors\n"
     ]
    }
   ],
   "source": [
    "# embeddings_index = load_embeddings(EMBEDDING_DIR+'glove.6B.300d.txt', embed_dim=300)\n",
    "embeddings_index = load_embeddings(EMBEDDING_DIR+'glove.6B.100d.txt')"
   ]
  },
  {
   "cell_type": "code",
   "execution_count": 250,
   "metadata": {
    "pycharm": {
     "name": "#%%\n"
    }
   },
   "outputs": [
    {
     "name": "stdout",
     "output_type": "stream",
     "text": [
      "done!\n"
     ]
    }
   ],
   "source": [
    "# Armar matriz de embeddings de 400000x100\n",
    "matrix_word_vectors = np.array([list(item) for item in embeddings_index.values()]) # Se puede armar en una linea haciendo un cast a np.array y un .values del dict\n",
    "print('done!')\n"
   ]
  },
  {
   "cell_type": "code",
   "execution_count": 251,
   "metadata": {},
   "outputs": [
    {
     "data": {
      "text/plain": [
       "(400000, 100)"
      ]
     },
     "execution_count": 251,
     "metadata": {},
     "output_type": "execute_result"
    }
   ],
   "source": [
    "np.shape(matrix_word_vectors)"
   ]
  },
  {
   "cell_type": "code",
   "execution_count": 252,
   "metadata": {
    "colab": {},
    "colab_type": "code",
    "id": "Mk9GpdAgWhvl"
   },
   "outputs": [],
   "source": [
    "# Aramr lista con vocabilario\n",
    "vocab_list = np.array([item for item in embeddings_index.keys()]) # Se puede armar con una linea .keys del dict"
   ]
  },
  {
   "cell_type": "code",
   "execution_count": 253,
   "metadata": {},
   "outputs": [
    {
     "name": "stdout",
     "output_type": "stream",
     "text": [
      "the\n"
     ]
    }
   ],
   "source": [
    "print(vocab_list[0])"
   ]
  },
  {
   "cell_type": "code",
   "execution_count": null,
   "metadata": {},
   "outputs": [],
   "source": []
  },
  {
   "cell_type": "code",
   "execution_count": null,
   "metadata": {},
   "outputs": [],
   "source": []
  },
  {
   "cell_type": "code",
   "execution_count": 254,
   "metadata": {},
   "outputs": [
    {
     "data": {
      "text/plain": [
       "(400000,)"
      ]
     },
     "execution_count": 254,
     "metadata": {},
     "output_type": "execute_result"
    }
   ],
   "source": [
    "np.shape(vocab_list)"
   ]
  },
  {
   "cell_type": "code",
   "execution_count": 255,
   "metadata": {
    "colab": {
     "base_uri": "https://localhost:8080/",
     "height": 34
    },
    "colab_type": "code",
    "id": "cHpq6u4wj_mf",
    "outputId": "5641a6aa-712c-4a90-8417-52bae646fb94"
   },
   "outputs": [
    {
     "data": {
      "text/plain": [
       "(400000, 100)"
      ]
     },
     "execution_count": 255,
     "metadata": {},
     "output_type": "execute_result"
    }
   ],
   "source": [
    "matrix_word_vectors.shape"
   ]
  },
  {
   "cell_type": "code",
   "execution_count": 256,
   "metadata": {},
   "outputs": [
    {
     "data": {
      "text/plain": [
       "array([-0.038194, -0.24487 ,  0.72812 , -0.39961 ,  0.083172,  0.043953,\n",
       "       -0.39141 ,  0.3344  , -0.57545 ,  0.087459,  0.28787 , -0.06731 ,\n",
       "        0.30906 , -0.26384 , -0.13231 , -0.20757 ,  0.33395 , -0.33848 ,\n",
       "       -0.31743 , -0.48336 ,  0.1464  , -0.37304 ,  0.34577 ,  0.052041,\n",
       "        0.44946 , -0.46971 ,  0.02628 , -0.54155 , -0.15518 , -0.14107 ,\n",
       "       -0.039722,  0.28277 ,  0.14393 ,  0.23464 , -0.31021 ,  0.086173,\n",
       "        0.20397 ,  0.52624 ,  0.17164 , -0.082378, -0.71787 , -0.41531 ,\n",
       "        0.20335 , -0.12763 ,  0.41367 ,  0.55187 ,  0.57908 , -0.33477 ,\n",
       "       -0.36559 , -0.54857 , -0.062892,  0.26584 ,  0.30205 ,  0.99775 ,\n",
       "       -0.80481 , -3.0243  ,  0.01254 , -0.36942 ,  2.2167  ,  0.72201 ,\n",
       "       -0.24978 ,  0.92136 ,  0.034514,  0.46745 ,  1.1079  , -0.19358 ,\n",
       "       -0.074575,  0.23353 , -0.052062, -0.22044 ,  0.057162, -0.15806 ,\n",
       "       -0.30798 , -0.41625 ,  0.37972 ,  0.15006 , -0.53212 , -0.2055  ,\n",
       "       -1.2526  ,  0.071624,  0.70565 ,  0.49744 , -0.42063 ,  0.26148 ,\n",
       "       -1.538   , -0.30223 , -0.073438, -0.28312 ,  0.37104 , -0.25217 ,\n",
       "        0.016215, -0.017099, -0.38984 ,  0.87424 , -0.72569 , -0.51058 ,\n",
       "       -0.52028 , -0.1459  ,  0.8278  ,  0.27062 ], dtype=float32)"
      ]
     },
     "execution_count": 256,
     "metadata": {},
     "output_type": "execute_result"
    }
   ],
   "source": [
    "matrix_word_vectors[0]"
   ]
  },
  {
   "cell_type": "code",
   "execution_count": 257,
   "metadata": {
    "colab": {},
    "colab_type": "code",
    "id": "rXoyk7t7XHIb"
   },
   "outputs": [],
   "source": [
    "from sklearn.neighbors import NearestNeighbors"
   ]
  },
  {
   "cell_type": "markdown",
   "metadata": {
    "colab_type": "text",
    "id": "VchnyUJYkYUB"
   },
   "source": [
    "# Entrenar un modelo de Nearest neighbours con los 20 primeros y distancia coseno"
   ]
  },
  {
   "cell_type": "code",
   "execution_count": 258,
   "metadata": {
    "colab": {},
    "colab_type": "code",
    "id": "8TLQNKXtX06m"
   },
   "outputs": [],
   "source": [
    "nearest = NearestNeighbors(n_neighbors=20, metric=\"cosine\")"
   ]
  },
  {
   "cell_type": "code",
   "execution_count": 259,
   "metadata": {
    "colab": {
     "base_uri": "https://localhost:8080/",
     "height": 68
    },
    "colab_type": "code",
    "id": "9WvK0UfeX5GP",
    "outputId": "8681ea0a-9aee-464f-d303-825d65bd5272"
   },
   "outputs": [
    {
     "data": {
      "text/plain": [
       "NearestNeighbors(metric='cosine', n_neighbors=20)"
      ]
     },
     "execution_count": 259,
     "metadata": {},
     "output_type": "execute_result"
    }
   ],
   "source": [
    "# Entrenar modelo\n",
    "nearest.fit(matrix_word_vectors)"
   ]
  },
  {
   "cell_type": "code",
   "execution_count": 260,
   "metadata": {
    "colab": {},
    "colab_type": "code",
    "id": "oOQoMzyMjWC0"
   },
   "outputs": [],
   "source": [
    "def get_analogy_by_word(word1, word2, word3, embeddings_index=embeddings_index):\n",
    "  # word1 es a word2 como word3 es a word4\n",
    "  # Tiene que devolver word4\n",
    "  v_word1 = embeddings_index[word1]\n",
    "  v_word2 = embeddings_index[word2]\n",
    "  v_word3 = embeddings_index[word3]\n",
    "\n",
    "  v_word4 = v_word2 - v_word1  + v_word3\n",
    "\n",
    "  distances, neig_idx = nearest.kneighbors([v_word4])\n",
    "\n",
    "#   print(\"distances: \",np.shape(distances))\n",
    "#   print(\"neig_idx: \",np.shape(neig_idx))\n",
    "\n",
    "#   print(\"distancias: \", distances[0])\n",
    "#   print(\"indices: \", neig_idx[0])\n",
    "    \n",
    "  for idx, real_index in enumerate(neig_idx[0]):  \n",
    "    word4 = vocab_list[neig_idx[0][idx]]\n",
    "    if (word3 != word4):\n",
    "      break\n",
    "  return word4"
   ]
  },
  {
   "cell_type": "code",
   "execution_count": null,
   "metadata": {
    "pycharm": {
     "name": "#%%\n"
    }
   },
   "outputs": [],
   "source": []
  },
  {
   "cell_type": "code",
   "execution_count": 261,
   "metadata": {
    "pycharm": {
     "name": "#%%\n"
    }
   },
   "outputs": [],
   "source": [
    "\n",
    "def get_analogy(word1, word2, word3, embeddings_index=embeddings_index):\n",
    "  # word1 es a word2 como word3 es a word4\n",
    "  # Tiene que devolver word4\n",
    "  v_word1 = embeddings_index[word1]\n",
    "  v_word2 = embeddings_index[word2]\n",
    "  v_word3 = embeddings_index[word3]\n",
    "\n",
    "  v_word4 = v_word2 - v_word1  + v_word3\n",
    "\n",
    "  distances, neig_idx = nearest.kneighbors([v_word4])\n",
    "  # print(neig_idx[0][0])\n",
    "  # print(embeddings_index[neig_idx[0][0]])\n",
    "  return embeddings_index[vocab_list[neig_idx[0][0]]]"
   ]
  },
  {
   "cell_type": "code",
   "execution_count": 262,
   "metadata": {},
   "outputs": [],
   "source": [
    "analogy_vector = get_analogy_by_word('switzerland', 'alps', 'argentina')"
   ]
  },
  {
   "cell_type": "code",
   "execution_count": 263,
   "metadata": {},
   "outputs": [],
   "source": [
    "analogy_word = get_analogy_by_word('switzerland', 'alps', 'argentina')"
   ]
  },
  {
   "cell_type": "code",
   "execution_count": 264,
   "metadata": {},
   "outputs": [
    {
     "name": "stdout",
     "output_type": "stream",
     "text": [
      "andes\n"
     ]
    }
   ],
   "source": [
    "print(analogy_word)"
   ]
  },
  {
   "cell_type": "code",
   "execution_count": 265,
   "metadata": {},
   "outputs": [],
   "source": [
    "analogy_word = get_analogy_by_word('woman', 'man', 'queen')"
   ]
  },
  {
   "cell_type": "code",
   "execution_count": 266,
   "metadata": {},
   "outputs": [
    {
     "name": "stdout",
     "output_type": "stream",
     "text": [
      "king\n"
     ]
    }
   ],
   "source": [
    "print(analogy_word)"
   ]
  },
  {
   "cell_type": "code",
   "execution_count": 267,
   "metadata": {},
   "outputs": [],
   "source": [
    "analogy_word = get_analogy_by_word('messi', 'soccer', 'federer')"
   ]
  },
  {
   "cell_type": "code",
   "execution_count": 268,
   "metadata": {},
   "outputs": [
    {
     "name": "stdout",
     "output_type": "stream",
     "text": [
      "tennis\n"
     ]
    }
   ],
   "source": [
    "print(analogy_word)"
   ]
  },
  {
   "cell_type": "code",
   "execution_count": 269,
   "metadata": {},
   "outputs": [],
   "source": [
    "analogy_word = get_analogy_by_word('woman', 'women', 'man')"
   ]
  },
  {
   "cell_type": "code",
   "execution_count": 270,
   "metadata": {},
   "outputs": [
    {
     "name": "stdout",
     "output_type": "stream",
     "text": [
      "men\n"
     ]
    }
   ],
   "source": [
    "print(analogy_word)"
   ]
  },
  {
   "cell_type": "code",
   "execution_count": 271,
   "metadata": {},
   "outputs": [],
   "source": [
    "analogy_word = get_analogy_by_word('man', 'woman', 'son')"
   ]
  },
  {
   "cell_type": "code",
   "execution_count": 272,
   "metadata": {},
   "outputs": [
    {
     "name": "stdout",
     "output_type": "stream",
     "text": [
      "daughter\n"
     ]
    }
   ],
   "source": [
    "print(analogy_word)"
   ]
  },
  {
   "cell_type": "code",
   "execution_count": 273,
   "metadata": {
    "colab": {},
    "colab_type": "code",
    "id": "kQR4OqwrYLVn"
   },
   "outputs": [],
   "source": [
    "def get_nearests_words_by_word(vector, nearest=nearest):\n",
    "  # Dado un vector, tiene que devolver la lista de los 20 mas cercanos\n",
    "  v_word = embeddings_index[vector]\n",
    "  _, neig_idx = nearest.kneighbors([v_word])\n",
    "\n",
    "  words_list = []\n",
    "  for idx, real_index in enumerate(neig_idx[0]): \n",
    "    words_list.append(vocab_list[neig_idx[0][idx]])\n",
    "  return words_list"
   ]
  },
  {
   "cell_type": "code",
   "execution_count": 274,
   "metadata": {
    "pycharm": {
     "name": "#%%\n"
    }
   },
   "outputs": [],
   "source": [
    "def get_nearests_words(vector, nearest=nearest):\n",
    "  # Dado un vector, tiene que devolver la lista de los 20 mas cercanos\n",
    "  _, neig_idx = nearest.kneighbors([vector])\n",
    "\n",
    "  words_list = []\n",
    "  for idx, real_index in enumerate(neig_idx[0]):\n",
    "    words_list.append(vocab_list[neig_idx[0][idx]])\n",
    "  return words_list\n"
   ]
  },
  {
   "cell_type": "code",
   "execution_count": 275,
   "metadata": {
    "colab": {},
    "colab_type": "code",
    "id": "deLwGh_zkFbo"
   },
   "outputs": [],
   "source": [
    "# Probar las siguientes analogías\n",
    "#\n",
    "# woman -> man, queen -> ?\n",
    "# england -> london, france-> ?\n",
    "# woman -> women, man -> ?\n",
    "# messi -> soccer, federer -> ?\n",
    "# switzerland -> alps, argentina ->\n",
    "\n",
    "analogy_vector = get_analogy('switzerland', 'alps', 'argentina')"
   ]
  },
  {
   "cell_type": "code",
   "execution_count": 276,
   "metadata": {
    "colab": {},
    "colab_type": "code",
    "id": "FgWBU9zJlIPT"
   },
   "outputs": [],
   "source": [
    "# Probar función get_nearests_words\n",
    "similars = get_nearests_words(analogy_vector)"
   ]
  },
  {
   "cell_type": "code",
   "execution_count": 277,
   "metadata": {
    "pycharm": {
     "name": "#%%\n"
    }
   },
   "outputs": [
    {
     "name": "stdout",
     "output_type": "stream",
     "text": [
      "['andes', 'foothills', 'mountains', 'cordillera', 'himalayas', 'patagonia', 'andean', 'himalaya', 'jungles', 'apennines', 'highlands', 'peru', 'alps', 'slopes', 'ural', 'madre', 'lowlands', 'carpathians', 'elevations', 'deserts']\n"
     ]
    }
   ],
   "source": [
    "print(similars)"
   ]
  },
  {
   "cell_type": "code",
   "execution_count": 278,
   "metadata": {
    "colab": {},
    "colab_type": "code",
    "id": "DILrgwaRYVLu"
   },
   "outputs": [],
   "source": [
    "animals = ['dog',\n",
    " 'cat',\n",
    " 'dogs',\n",
    " 'pet',\n",
    " 'puppy',\n",
    " 'horse',\n",
    " 'animal',\n",
    " 'pig',\n",
    " 'boy',\n",
    " 'cats',\n",
    " 'rabbit',\n",
    " 'goat',\n",
    " 'sled',\n",
    " 'monkey',\n",
    " 'cow',\n",
    " 'rat',\n",
    " 'breed',\n",
    " 'mad',\n",
    " 'hound',\n",
    " 'bird']"
   ]
  },
  {
   "cell_type": "code",
   "execution_count": 279,
   "metadata": {
    "colab": {},
    "colab_type": "code",
    "id": "oYFVs9ipnbbF"
   },
   "outputs": [],
   "source": [
    "transport = ['car',\n",
    " 'vehicle',\n",
    " 'truck',\n",
    " 'cars',\n",
    " 'driver',\n",
    " 'driving',\n",
    " 'motorcycle',\n",
    " 'vehicles',\n",
    " 'parked',\n",
    " 'bus',\n",
    " 'taxi',\n",
    " 'suv',\n",
    " 'pickup',\n",
    " 'jeep',\n",
    " 'mercedes',\n",
    " 'cab',\n",
    " 'bicycle',\n",
    " 'drivers',\n",
    " 'automobile',\n",
    " 'train']"
   ]
  },
  {
   "cell_type": "code",
   "execution_count": 280,
   "metadata": {
    "colab": {},
    "colab_type": "code",
    "id": "yg9C7itHnhte"
   },
   "outputs": [],
   "source": [
    "countries = ['argentina',\n",
    " 'england',\n",
    " 'australia',\n",
    " 'spain',\n",
    " 'brazil',\n",
    " 'portugal',\n",
    " 'zealand',\n",
    " 'scotland',\n",
    " 'match',\n",
    " 'africa',\n",
    " 'wales',\n",
    " 'ireland',\n",
    " 'italy',\n",
    " 'matches',\n",
    " 'france',\n",
    " 'indies',\n",
    " 'uruguay',\n",
    " 'britain',\n",
    " 'netherlands',\n",
    " 'united']"
   ]
  },
  {
   "cell_type": "code",
   "execution_count": 281,
   "metadata": {
    "colab": {},
    "colab_type": "code",
    "id": "7GWSToprnOxe"
   },
   "outputs": [],
   "source": [
    "professions = ['engineer',\n",
    " 'scientist',\n",
    " 'economist',\n",
    " 'professor',\n",
    " 'consultant',\n",
    " 'director',\n",
    " 'dr.',\n",
    " 'doctor',\n",
    " 'researcher',\n",
    " 'expert',\n",
    " 'physician',\n",
    " 'officer',\n",
    " 'surgeon',\n",
    " 'chief',\n",
    " 'assistant',\n",
    " 'specialist',\n",
    " 'associate',\n",
    " 'author',\n",
    " 'worked',\n",
    " 'psychologist']"
   ]
  },
  {
   "cell_type": "code",
   "execution_count": 282,
   "metadata": {
    "colab": {},
    "colab_type": "code",
    "id": "q7yBjxNNn07R"
   },
   "outputs": [],
   "source": [
    "all_words = animals + transport + countries + professions"
   ]
  },
  {
   "cell_type": "code",
   "execution_count": 283,
   "metadata": {
    "colab": {},
    "colab_type": "code",
    "id": "LMhEWApEoV_h"
   },
   "outputs": [],
   "source": [
    "vectors_subset = np.array([embeddings_index[word] for word in all_words])"
   ]
  },
  {
   "cell_type": "code",
   "execution_count": 284,
   "metadata": {
    "colab": {},
    "colab_type": "code",
    "id": "7rOSh6UOoLPX"
   },
   "outputs": [],
   "source": [
    "from sklearn.manifold import TSNE"
   ]
  },
  {
   "cell_type": "code",
   "execution_count": 285,
   "metadata": {
    "colab": {},
    "colab_type": "code",
    "id": "GhLy6ekooxkK"
   },
   "outputs": [],
   "source": [
    "tsne = TSNE(2, verbose=1)"
   ]
  },
  {
   "cell_type": "code",
   "execution_count": 286,
   "metadata": {
    "colab": {
     "base_uri": "https://localhost:8080/",
     "height": 170
    },
    "colab_type": "code",
    "id": "6-SH_MWXo0MA",
    "outputId": "b320bd0a-289e-40bc-e592-7522f09a49c4"
   },
   "outputs": [
    {
     "name": "stdout",
     "output_type": "stream",
     "text": [
      "[t-SNE] Computing 79 nearest neighbors...\n",
      "[t-SNE] Indexed 80 samples in 0.000s...\n",
      "[t-SNE] Computed neighbors for 80 samples in 0.004s...\n",
      "[t-SNE] Computed conditional probabilities for sample 80 / 80\n",
      "[t-SNE] Mean sigma: 3.172693\n"
     ]
    },
    {
     "name": "stderr",
     "output_type": "stream",
     "text": [
      "/home/j3nnn1/anaconda3/envs/nlp_deep/lib/python3.7/site-packages/sklearn/manifold/_t_sne.py:783: FutureWarning: The default initialization in TSNE will change from 'random' to 'pca' in 1.2.\n",
      "  FutureWarning,\n",
      "/home/j3nnn1/anaconda3/envs/nlp_deep/lib/python3.7/site-packages/sklearn/manifold/_t_sne.py:793: FutureWarning: The default learning rate in TSNE will change from 200.0 to 'auto' in 1.2.\n",
      "  FutureWarning,\n"
     ]
    },
    {
     "name": "stdout",
     "output_type": "stream",
     "text": [
      "[t-SNE] KL divergence after 250 iterations with early exaggeration: 54.988178\n",
      "[t-SNE] KL divergence after 1000 iterations: 0.273113\n",
      "CPU times: user 6.01 s, sys: 357 ms, total: 6.37 s\n",
      "Wall time: 890 ms\n"
     ]
    }
   ],
   "source": [
    "%time embed_2d_tsne = tsne.fit_transform(vectors_subset)"
   ]
  },
  {
   "cell_type": "code",
   "execution_count": 287,
   "metadata": {
    "colab": {},
    "colab_type": "code",
    "id": "refMfFQqo3-3"
   },
   "outputs": [],
   "source": [
    "from matplotlib import pyplot as plt"
   ]
  },
  {
   "cell_type": "code",
   "execution_count": 288,
   "metadata": {
    "colab": {},
    "colab_type": "code",
    "id": "tpYyqyQTo-RU"
   },
   "outputs": [],
   "source": [
    "for i in range(4):\n",
    "  plt.scatter(embed_2d_tsne[i*20:(i+1)*20,0], embed_2d_tsne[i*20:(i+1)*20,1], c=f'C{i}')"
   ]
  },
  {
   "cell_type": "code",
   "execution_count": null,
   "metadata": {
    "colab": {},
    "colab_type": "code",
    "id": "ITTs5oXipFtB"
   },
   "outputs": [],
   "source": []
  },
  {
   "cell_type": "code",
   "execution_count": null,
   "metadata": {},
   "outputs": [],
   "source": []
  }
 ],
 "metadata": {
  "colab": {
   "include_colab_link": true,
   "name": "06-glove_tests.ipynb",
   "provenance": []
  },
  "kernelspec": {
   "display_name": "PyCharm (deepLCourse)",
   "language": "python",
   "name": "pycharm-f766f754"
  },
  "language_info": {
   "codemirror_mode": {
    "name": "ipython",
    "version": 3
   },
   "file_extension": ".py",
   "mimetype": "text/x-python",
   "name": "python",
   "nbconvert_exporter": "python",
   "pygments_lexer": "ipython3",
   "version": "3.7.11"
  }
 },
 "nbformat": 4,
 "nbformat_minor": 1
}
